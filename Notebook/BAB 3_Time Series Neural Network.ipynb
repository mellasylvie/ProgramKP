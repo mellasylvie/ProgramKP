{
  "nbformat": 4,
  "nbformat_minor": 0,
  "metadata": {
    "colab": {
      "name": "BAB 3 KP.ipynb",
      "provenance": [],
      "collapsed_sections": [],
      "toc_visible": true
    },
    "kernelspec": {
      "name": "python3",
      "display_name": "Python 3"
    },
    "language_info": {
      "name": "python"
    }
  },
  "cells": [
    {
      "cell_type": "markdown",
      "metadata": {
        "id": "4v6Hv6fQXKlO"
      },
      "source": [
        "# Menyediakan Feature dan Label"
      ]
    },
    {
      "cell_type": "markdown",
      "metadata": {
        "id": "69em_LOZXf6S"
      },
      "source": [
        "Mengimpor library dan Memeriksa versi tensorflow"
      ]
    },
    {
      "cell_type": "code",
      "metadata": {
        "colab": {
          "base_uri": "https://localhost:8080/"
        },
        "id": "PLtGTZQsXD92",
        "outputId": "0c96abe4-f0ff-41bc-be9c-880f92071b7d"
      },
      "source": [
        "#Mengimpor library tensorflow\n",
        "import tensorflow as tf\n",
        "\n",
        "#Mengimpor library NumPy\n",
        "import numpy as np\n",
        "\n",
        "#Mengimpor library matplotlib\n",
        "import matplotlib.pyplot as plt\n",
        "\n",
        "#Memeriksa versi tensorflow\n",
        "print(tf.__version__)"
      ],
      "execution_count": null,
      "outputs": [
        {
          "output_type": "stream",
          "text": [
            "2.5.0\n"
          ],
          "name": "stdout"
        }
      ]
    },
    {
      "cell_type": "markdown",
      "metadata": {
        "id": "-gEMneloXr-k"
      },
      "source": [
        "Membuat dataset sederhana dengan tf.data.Dataset"
      ]
    },
    {
      "cell_type": "code",
      "metadata": {
        "colab": {
          "base_uri": "https://localhost:8080/"
        },
        "id": "hLWeAEGJXrV4",
        "outputId": "aac8b826-c2fa-4ade-a52b-c365d128693d"
      },
      "source": [
        "#Membuat dataset dengan nilai sebanyak 10\n",
        "dataset = tf.data.Dataset.range(10)  \n",
        "for nilai in dataset:\n",
        "   print(nilai.numpy())"
      ],
      "execution_count": null,
      "outputs": [
        {
          "output_type": "stream",
          "text": [
            "0\n",
            "1\n",
            "2\n",
            "3\n",
            "4\n",
            "5\n",
            "6\n",
            "7\n",
            "8\n",
            "9\n"
          ],
          "name": "stdout"
        }
      ]
    },
    {
      "cell_type": "markdown",
      "metadata": {
        "id": "8Ce_V0INji1T"
      },
      "source": [
        "Menambahkan dataset.window pada dataset sebelumnya"
      ]
    },
    {
      "cell_type": "code",
      "metadata": {
        "colab": {
          "base_uri": "https://localhost:8080/"
        },
        "id": "TVkVQ9aAYNBc",
        "outputId": "bd1e2a27-ca20-45cd-f492-92ebf1fb7c23"
      },
      "source": [
        "#Menambahkan dataset.window untuk membuat windowed dataset\n",
        "dataset = tf.data.Dataset.range(10)\n",
        "dataset = dataset.window(5, shift=1) \n",
        "for window_dataset in dataset:\n",
        "  for nilai in window_dataset:\n",
        "    print(nilai.numpy(), end=\" \")\n",
        "  print()"
      ],
      "execution_count": null,
      "outputs": [
        {
          "output_type": "stream",
          "text": [
            "0 1 2 3 4 \n",
            "1 2 3 4 5 \n",
            "2 3 4 5 6 \n",
            "3 4 5 6 7 \n",
            "4 5 6 7 8 \n",
            "5 6 7 8 9 \n",
            "6 7 8 9 \n",
            "7 8 9 \n",
            "8 9 \n",
            "9 \n"
          ],
          "name": "stdout"
        }
      ]
    },
    {
      "cell_type": "markdown",
      "metadata": {
        "id": "0eaH3pyg3Fp-"
      },
      "source": [
        "Menambahkan drop_remainder"
      ]
    },
    {
      "cell_type": "code",
      "metadata": {
        "colab": {
          "base_uri": "https://localhost:8080/"
        },
        "id": "bHJkCAJCYUUy",
        "outputId": "840e6a1b-6ef8-4f21-9160-5a130429abc9"
      },
      "source": [
        "dataset = tf.data.Dataset.range(10)\n",
        "#Menambahkan drop remainder\n",
        "dataset = dataset.window(5, shift=1, \n",
        "                         drop_remainder=True)\n",
        "for window_dataset in dataset:\n",
        "  for nilai in window_dataset:\n",
        "    print(nilai.numpy(), end=\" \")\n",
        "  print()"
      ],
      "execution_count": null,
      "outputs": [
        {
          "output_type": "stream",
          "text": [
            "0 1 2 3 4 \n",
            "1 2 3 4 5 \n",
            "2 3 4 5 6 \n",
            "3 4 5 6 7 \n",
            "4 5 6 7 8 \n",
            "5 6 7 8 9 \n"
          ],
          "name": "stdout"
        }
      ]
    },
    {
      "cell_type": "markdown",
      "metadata": {
        "id": "1L0kxNyqAnud"
      },
      "source": [
        "Memasukkan nilai ke daftar numpy"
      ]
    },
    {
      "cell_type": "code",
      "metadata": {
        "colab": {
          "base_uri": "https://localhost:8080/"
        },
        "id": "731p65kjYa_x",
        "outputId": "248f508b-8619-4349-9584-1009c97086c2"
      },
      "source": [
        "dataset = tf.data.Dataset.range(10)\n",
        "dataset = dataset.window(5, shift=1, \n",
        "                         drop_remainder=True)\n",
        "dataset = dataset.flat_map(lambda window: window.batch(5))\n",
        "for nilai in dataset:\n",
        "  print(nilai.numpy())"
      ],
      "execution_count": null,
      "outputs": [
        {
          "output_type": "stream",
          "text": [
            "[0 1 2 3 4]\n",
            "[1 2 3 4 5]\n",
            "[2 3 4 5 6]\n",
            "[3 4 5 6 7]\n",
            "[4 5 6 7 8]\n",
            "[5 6 7 8 9]\n"
          ],
          "name": "stdout"
        }
      ]
    },
    {
      "cell_type": "markdown",
      "metadata": {
        "id": "aDQmrvlDAvKP"
      },
      "source": [
        "Membagi data menjadi feature dan label"
      ]
    },
    {
      "cell_type": "code",
      "metadata": {
        "colab": {
          "base_uri": "https://localhost:8080/"
        },
        "id": "BHI9lpNIYe_K",
        "outputId": "8facd265-9356-4637-c56b-744ec3058699"
      },
      "source": [
        "dataset = tf.data.Dataset.range(10)\n",
        "dataset = dataset.window(5, shift=1, drop_remainder=True)\n",
        "dataset = dataset.flat_map(lambda window: window.batch(5))\n",
        "\n",
        "#Membagi data dengan pemetaan\n",
        "dataset = dataset.map(lambda window: \n",
        "                      (window[:-1], window[-1:]))\n",
        "for x,y in dataset:\n",
        "  print(x.numpy(), y.numpy())"
      ],
      "execution_count": null,
      "outputs": [
        {
          "output_type": "stream",
          "text": [
            "[0 1 2 3] [4]\n",
            "[1 2 3 4] [5]\n",
            "[2 3 4 5] [6]\n",
            "[3 4 5 6] [7]\n",
            "[4 5 6 7] [8]\n",
            "[5 6 7 8] [9]\n"
          ],
          "name": "stdout"
        }
      ]
    },
    {
      "cell_type": "markdown",
      "metadata": {
        "id": "HTtRWwa2A0NA"
      },
      "source": [
        "Menambahkan metode shuffle"
      ]
    },
    {
      "cell_type": "code",
      "metadata": {
        "colab": {
          "base_uri": "https://localhost:8080/"
        },
        "id": "2IMHjkYAYlva",
        "outputId": "2ba83a9d-7699-4e3c-c2e5-4f4e40e53b20"
      },
      "source": [
        "dataset = tf.data.Dataset.range(10)\n",
        "dataset = dataset.window(5, shift=1, drop_remainder=True)\n",
        "dataset = dataset.flat_map(lambda window: window.batch(5))\n",
        "dataset = dataset.map(lambda window: \n",
        "                      (window[:-1], window[-1:]))\n",
        "#Mengacak Data\n",
        "dataset = dataset.shuffle(buffer_size=10)\n",
        "for x,y in dataset:\n",
        "  print(x.numpy(), y.numpy())"
      ],
      "execution_count": null,
      "outputs": [
        {
          "output_type": "stream",
          "text": [
            "[3 4 5 6] [7]\n",
            "[2 3 4 5] [6]\n",
            "[4 5 6 7] [8]\n",
            "[1 2 3 4] [5]\n",
            "[5 6 7 8] [9]\n",
            "[0 1 2 3] [4]\n"
          ],
          "name": "stdout"
        }
      ]
    },
    {
      "cell_type": "markdown",
      "metadata": {
        "id": "wa2U9z6iCWTY"
      },
      "source": [
        "# Menyiapkan Windowed Dataset"
      ]
    },
    {
      "cell_type": "code",
      "metadata": {
        "id": "h2u-j8siCghM"
      },
      "source": [
        "import tensorflow as tf\n",
        "\n",
        "def windowed_dataset(series, window_size, batch_size, shuffle_buffer):\n",
        "  dataset = tf.data.Dataset.from_tensor_slices(series)\n",
        "  dataset = dataset.window(window_size + 1, shift=1, drop_remainder=True)\n",
        "  dataset = dataset.flat_map(lambda window: window.batch(window_size + 1))\n",
        "  dataset = dataset.shuffle(shuffle_buffer\n",
        "                            ).map(lambda window: (window[:-1], window[-1]))\n",
        "  dataset = dataset.batch(batch_size).prefetch(1)\n",
        "  return dataset"
      ],
      "execution_count": null,
      "outputs": []
    },
    {
      "cell_type": "markdown",
      "metadata": {
        "id": "NbXEF8Ltnvr_"
      },
      "source": [
        "# Time Series Forecasting dengan Single Layer Neural Network"
      ]
    },
    {
      "cell_type": "markdown",
      "metadata": {
        "id": "FfhGTDCKoX90"
      },
      "source": [
        "Mengimpor library dan Memeriksa versi tensorflow"
      ]
    },
    {
      "cell_type": "code",
      "metadata": {
        "id": "LT9UXFJWn5oe",
        "colab": {
          "base_uri": "https://localhost:8080/"
        },
        "outputId": "f255137e-97cc-47ac-96b2-f190595a503c"
      },
      "source": [
        "import tensorflow as tf\n",
        "import numpy as np\n",
        "import matplotlib.pyplot as plt\n",
        "print(tf.__version__)"
      ],
      "execution_count": null,
      "outputs": [
        {
          "output_type": "stream",
          "text": [
            "2.5.0\n"
          ],
          "name": "stdout"
        }
      ]
    },
    {
      "cell_type": "markdown",
      "metadata": {
        "id": "4S3vmfvwyJLa"
      },
      "source": [
        "Membuat fungsi data series"
      ]
    },
    {
      "cell_type": "code",
      "metadata": {
        "id": "opVcvd2doVmD"
      },
      "source": [
        "#Fungsi untuk membuat visualisasi grafik time series\n",
        "def plot_series(time, series, format=\"-\", start=0, end=None):\n",
        "    plt.plot(time[start:end], series[start:end], format)\n",
        "    plt.xlabel(\"Waktu\") #Sumbu x\n",
        "    plt.ylabel(\"Nilai\") #Sumbu y\n",
        "    plt.grid(True) #menampilkan grid\n",
        "\n",
        "#Fungsi untuk membuat pola trend\n",
        "#Nilainya boleh diubah diatur sesuai keinginan\n",
        "def trend(time, slope=0):\n",
        "    return slope * time\n",
        "\n",
        "#Fungsi untuk membuat pola seasonal\n",
        "#Nilainya boleh diubah diatur sesuai keinginan\n",
        "def seasonal_pattern(season_time):\n",
        "    return np.where(season_time < 0.4,\n",
        "                    np.cos(season_time * 2 * np.pi),\n",
        "                    1 / np.exp(3 * season_time))\n",
        "\n",
        "#Fungsi untuk membuat pola seasonality\n",
        "def seasonality(time, period, amplitude=1, phase=0):\n",
        "    season_time = ((time + phase) % period) / period\n",
        "    return amplitude * seasonal_pattern(season_time)\n",
        "\n",
        "#Fungsi untuk membuat pola noise\n",
        "def noise(time, noise_level=1, seed=None):\n",
        "    rnd = np.random.RandomState(seed)\n",
        "    return rnd.randn(len(time)) * noise_level\n",
        "\n",
        "#Mengatur nilai time (waktu)\n",
        "time = np.arange(4 * 365 + 1, dtype=\"float32\")\n",
        "baseline = 10 #Mengatur nilai baseline\n",
        "series = trend(time, 0.1)   #Mengatur seriesnya\n",
        "baseline = 10\n",
        "amplitude = 40 #Mengatur amplitude\n",
        "slope = 0.05  #Mengatur slope\n",
        "noise_level = 5  #Mengatur level noise\n",
        "\n",
        "#Membuat Seriesnya\n",
        "series = baseline + trend(time, slope) + seasonality(time, \n",
        "                                                     period=365, \n",
        "                                                     amplitude=amplitude)\n",
        "#Diperbarui dengan menambahkan noise\n",
        "series += noise(time, noise_level, seed=42)"
      ],
      "execution_count": null,
      "outputs": []
    },
    {
      "cell_type": "markdown",
      "metadata": {
        "id": "dKLDjLPN-JvS"
      },
      "source": [
        "Membagi Dataset"
      ]
    },
    {
      "cell_type": "code",
      "metadata": {
        "id": "wFX_K1flpPOM"
      },
      "source": [
        "split_time = 1000 #Membagi time menjadi 1000\n",
        "time_train = time[:split_time] #data time untuk training\n",
        "x_train = series[:split_time] #data series untuk training\n",
        "time_valid = time[split_time:] #data time untuk validasi\n",
        "x_valid = series[split_time:] #data series untuk validasi\n",
        "\n",
        "window_size = 20 #mengatur ukuran window\n",
        "batch_size = 32 #mengatur ukuran batch\n",
        "shuffle_buffer_size = 1000 #mengatur ukuran buffer acak"
      ],
      "execution_count": null,
      "outputs": []
    },
    {
      "cell_type": "markdown",
      "metadata": {
        "id": "9qwuf8Uk-SSf"
      },
      "source": [
        "Menambahkan Fungsi Windowed Dataset"
      ]
    },
    {
      "cell_type": "code",
      "metadata": {
        "id": "rH34xgcwpjid"
      },
      "source": [
        "def windowed_dataset(series, window_size, batch_size, shuffle_buffer):\n",
        "  dataset = tf.data.Dataset.from_tensor_slices(series)\n",
        "  dataset = dataset.window(window_size + 1, shift=1, \n",
        "                           drop_remainder=True)\n",
        "  dataset = dataset.flat_map(lambda window: \n",
        "                             window.batch(window_size + 1))\n",
        "  dataset = dataset.shuffle(shuffle_buffer).map(lambda window: \n",
        "                                                (window[:-1], window[-1]))\n",
        "  dataset = dataset.batch(batch_size).prefetch(1)\n",
        "  return dataset"
      ],
      "execution_count": null,
      "outputs": []
    },
    {
      "cell_type": "markdown",
      "metadata": {
        "id": "-vmRriaM-i2o"
      },
      "source": [
        "Membuat Model"
      ]
    },
    {
      "cell_type": "code",
      "metadata": {
        "id": "YFLsUlPupsEV",
        "colab": {
          "base_uri": "https://localhost:8080/"
        },
        "outputId": "cbafd053-9c2d-421d-a666-e0ebc5b14e37"
      },
      "source": [
        "#Memanggil Fungsi Windowed Dataset\n",
        "dataset = windowed_dataset(x_train, window_size, \n",
        "                           batch_size, \n",
        "                           shuffle_buffer_size)\n",
        "print(dataset)\n",
        "\n",
        "#Membuat Dense Layer\n",
        "layer = tf.keras.layers.Dense(1, input_shape=[window_size])\n",
        "\n",
        "#Membuat single layer neural network\n",
        "model = tf.keras.models.Sequential([layer]) \n",
        "\n",
        "#Membuat simpulan model\n",
        "model.summary()"
      ],
      "execution_count": null,
      "outputs": [
        {
          "output_type": "stream",
          "text": [
            "<PrefetchDataset shapes: ((None, None), (None,)), types: (tf.float32, tf.float32)>\n",
            "Model: \"sequential\"\n",
            "_________________________________________________________________\n",
            "Layer (type)                 Output Shape              Param #   \n",
            "=================================================================\n",
            "dense (Dense)                (None, 1)                 21        \n",
            "=================================================================\n",
            "Total params: 21\n",
            "Trainable params: 21\n",
            "Non-trainable params: 0\n",
            "_________________________________________________________________\n"
          ],
          "name": "stdout"
        }
      ]
    },
    {
      "cell_type": "markdown",
      "metadata": {
        "id": "Q84SV-iR-nbE"
      },
      "source": [
        "Hasil Prediksi"
      ]
    },
    {
      "cell_type": "code",
      "metadata": {
        "id": "_WCqjzC1pycl",
        "colab": {
          "base_uri": "https://localhost:8080/"
        },
        "outputId": "af80da56-c07b-4dd9-c7d3-ee3222d197ef"
      },
      "source": [
        "#Mengcompile model\n",
        "model.compile(loss=\"mse\", \n",
        "              optimizer=tf.keras.optimizers.SGD(learning_rate=1e-6, \n",
        "                                                momentum=0.9))\n",
        "#Mentraining Model\n",
        "model.fit(dataset,epochs=100,verbose=0)\n",
        "\n",
        "#Menampilkan Hasil Prediksi\n",
        "print(\"Layer weights {}\".format(layer.get_weights()))"
      ],
      "execution_count": null,
      "outputs": [
        {
          "output_type": "stream",
          "text": [
            "Layer weights [array([[ 0.00443255],\n",
            "       [ 0.01571949],\n",
            "       [-0.07040853],\n",
            "       [ 0.03775336],\n",
            "       [ 0.05365657],\n",
            "       [-0.03994824],\n",
            "       [-0.05268764],\n",
            "       [ 0.01512054],\n",
            "       [ 0.09043963],\n",
            "       [-0.02449548],\n",
            "       [-0.01068988],\n",
            "       [-0.01742059],\n",
            "       [-0.03740674],\n",
            "       [ 0.03737618],\n",
            "       [ 0.01240223],\n",
            "       [ 0.05499949],\n",
            "       [ 0.06272443],\n",
            "       [ 0.19534782],\n",
            "       [ 0.24700455],\n",
            "       [ 0.42925066]], dtype=float32), array([0.01590855], dtype=float32)]\n"
          ],
          "name": "stdout"
        }
      ]
    },
    {
      "cell_type": "code",
      "metadata": {
        "id": "hPBqSeGzqIal",
        "colab": {
          "base_uri": "https://localhost:8080/",
          "height": 334
        },
        "outputId": "864b5afd-6c7d-4c0f-df28-1918dd842b91"
      },
      "source": [
        "#Membuat Prediksi\n",
        "prediksi = []\n",
        "\n",
        "for time in range(len(series) - window_size):\n",
        "  prediksi.append(model.predict(series[time:time + window_size]\n",
        "                                [np.newaxis]))\n",
        "\n",
        "prediksi = prediksi[split_time-window_size:]\n",
        "Hasil = np.array(prediksi)[:, 0, 0]\n",
        "\n",
        "#Mengatur ukuran grafik\n",
        "plt.figure(figsize=(9, 5))\n",
        "\n",
        "plot_series(time_valid, x_valid) #Visualisasi data aktual\n",
        "plot_series(time_valid, Hasil) #Visualisasi prediksi"
      ],
      "execution_count": null,
      "outputs": [
        {
          "output_type": "display_data",
          "data": {
            "image/png": "[encoded data removed]",
            "text/plain": [
              "<Figure size 648x360 with 1 Axes>"
            ]
          },
          "metadata": {
            "tags": [],
            "needs_background": "light"
          }
        }
      ]
    },
    {
      "cell_type": "markdown",
      "metadata": {
        "id": "L2H32OLW-umE"
      },
      "source": [
        "Mengukur Hasil Mean Absolute Error"
      ]
    },
    {
      "cell_type": "code",
      "metadata": {
        "id": "KoAg59ORtbs3",
        "colab": {
          "base_uri": "https://localhost:8080/"
        },
        "outputId": "f715f880-d1d7-4a0c-90d6-680d0242f523"
      },
      "source": [
        "tf.keras.metrics.mean_absolute_error(x_valid, Hasil).numpy()"
      ],
      "execution_count": null,
      "outputs": [
        {
          "output_type": "execute_result",
          "data": {
            "text/plain": [
              "4.921086"
            ]
          },
          "metadata": {
            "tags": []
          },
          "execution_count": 9
        }
      ]
    }
  ]
}