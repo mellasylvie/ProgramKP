{
  "nbformat": 4,
  "nbformat_minor": 0,
  "metadata": {
    "colab": {
      "name": "BAB 7 KP SUNSPOTS.ipynb",
      "provenance": [],
      "collapsed_sections": []
    },
    "kernelspec": {
      "name": "python3",
      "display_name": "Python 3"
    },
    "language_info": {
      "name": "python"
    }
  },
  "cells": [
    {
      "cell_type": "markdown",
      "metadata": {
        "id": "xW7bRokOozZ_"
      },
      "source": [
        "# TIME SERIES FORECASTING DENGAN REAL DATASET"
      ]
    },
    {
      "cell_type": "markdown",
      "metadata": {
        "id": "QibjobyUo-bV"
      },
      "source": [
        "Mengimpor Library dan Memeriksa Versi Tensorflow"
      ]
    },
    {
      "cell_type": "code",
      "metadata": {
        "colab": {
          "base_uri": "https://localhost:8080/"
        },
        "id": "ya1g_ErVgTfH",
        "outputId": "ffe8056d-3021-4585-a902-4b435837ac53"
      },
      "source": [
        "import tensorflow as tf\n",
        "import numpy as np\n",
        "import matplotlib.pyplot as plt\n",
        "print(tf.__version__)"
      ],
      "execution_count": null,
      "outputs": [
        {
          "output_type": "stream",
          "text": [
            "2.5.0\n"
          ],
          "name": "stdout"
        }
      ]
    },
    {
      "cell_type": "markdown",
      "metadata": {
        "id": "rjYl2-g9pEB-"
      },
      "source": [
        "Membuat Fungsi Grafik Data Series"
      ]
    },
    {
      "cell_type": "code",
      "metadata": {
        "id": "YYntEy8vgqct"
      },
      "source": [
        "def plot_series(time, series, format=\"-\", start=0, end=None):\n",
        "    plt.plot(time[start:end], series[start:end], format)\n",
        "    plt.xlabel(\"Waktu\")\n",
        "    plt.ylabel(\"Nilai\")\n",
        "    plt.grid(True)"
      ],
      "execution_count": null,
      "outputs": []
    },
    {
      "cell_type": "markdown",
      "metadata": {
        "id": "wL3wyd8SpNAW"
      },
      "source": [
        "Menghubungkan dengan Google Drive"
      ]
    },
    {
      "cell_type": "code",
      "metadata": {
        "colab": {
          "base_uri": "https://localhost:8080/"
        },
        "id": "ar-ENs7agxvb",
        "outputId": "39747952-c1c9-4157-85be-58b86750a2f3"
      },
      "source": [
        "from google.colab import drive #Mengimpor G-Drive\n",
        "\n",
        "drive.mount('/content/drive') #Mengatur lokasi Drive"
      ],
      "execution_count": null,
      "outputs": [
        {
          "output_type": "stream",
          "text": [
            "Mounted at /content/drive\n"
          ],
          "name": "stdout"
        }
      ]
    },
    {
      "cell_type": "markdown",
      "metadata": {
        "id": "oAplOookpSLd"
      },
      "source": [
        "Mengakses Dataset"
      ]
    },
    {
      "cell_type": "code",
      "metadata": {
        "colab": {
          "base_uri": "https://localhost:8080/"
        },
        "id": "4bq1S2nkmdf3",
        "outputId": "ff2d1c39-7bd4-42cf-9589-7dd6d81c6c4d"
      },
      "source": [
        "import pandas as pd #Mengimpor Library Pandas\n",
        "\n",
        "#Membaca File Dataset CSV\n",
        "Dataset = pd.read_csv('/content/drive/MyDrive/Dataset/Sunspots.csv')\n",
        "#Melihat Info Dataset\n",
        "Dataset.info()"
      ],
      "execution_count": null,
      "outputs": [
        {
          "output_type": "stream",
          "text": [
            "<class 'pandas.core.frame.DataFrame'>\n",
            "RangeIndex: 3235 entries, 0 to 3234\n",
            "Data columns (total 3 columns):\n",
            " #   Column                             Non-Null Count  Dtype  \n",
            "---  ------                             --------------  -----  \n",
            " 0   Unnamed: 0                         3235 non-null   int64  \n",
            " 1   Date                               3235 non-null   object \n",
            " 2   Monthly Mean Total Sunspot Number  3235 non-null   float64\n",
            "dtypes: float64(1), int64(1), object(1)\n",
            "memory usage: 75.9+ KB\n"
          ],
          "name": "stdout"
        }
      ]
    },
    {
      "cell_type": "code",
      "metadata": {
        "id": "7w5Fl2Ndpp82",
        "colab": {
          "base_uri": "https://localhost:8080/",
          "height": 204
        },
        "outputId": "54874593-334f-4721-c3a3-ed9a9b8471fc"
      },
      "source": [
        "#Melihat Isi Dataset\n",
        "Dataset.head()"
      ],
      "execution_count": null,
      "outputs": [
        {
          "output_type": "execute_result",
          "data": {
            "text/html": [
              "<div>\n",
              "<style scoped>\n",
              "    .dataframe tbody tr th:only-of-type {\n",
              "        vertical-align: middle;\n",
              "    }\n",
              "\n",
              "    .dataframe tbody tr th {\n",
              "        vertical-align: top;\n",
              "    }\n",
              "\n",
              "    .dataframe thead th {\n",
              "        text-align: right;\n",
              "    }\n",
              "</style>\n",
              "<table border=\"1\" class=\"dataframe\">\n",
              "  <thead>\n",
              "    <tr style=\"text-align: right;\">\n",
              "      <th></th>\n",
              "      <th>Unnamed: 0</th>\n",
              "      <th>Date</th>\n",
              "      <th>Monthly Mean Total Sunspot Number</th>\n",
              "    </tr>\n",
              "  </thead>\n",
              "  <tbody>\n",
              "    <tr>\n",
              "      <th>0</th>\n",
              "      <td>0</td>\n",
              "      <td>1749-01-31</td>\n",
              "      <td>96.7</td>\n",
              "    </tr>\n",
              "    <tr>\n",
              "      <th>1</th>\n",
              "      <td>1</td>\n",
              "      <td>1749-02-28</td>\n",
              "      <td>104.3</td>\n",
              "    </tr>\n",
              "    <tr>\n",
              "      <th>2</th>\n",
              "      <td>2</td>\n",
              "      <td>1749-03-31</td>\n",
              "      <td>116.7</td>\n",
              "    </tr>\n",
              "    <tr>\n",
              "      <th>3</th>\n",
              "      <td>3</td>\n",
              "      <td>1749-04-30</td>\n",
              "      <td>92.8</td>\n",
              "    </tr>\n",
              "    <tr>\n",
              "      <th>4</th>\n",
              "      <td>4</td>\n",
              "      <td>1749-05-31</td>\n",
              "      <td>141.7</td>\n",
              "    </tr>\n",
              "  </tbody>\n",
              "</table>\n",
              "</div>"
            ],
            "text/plain": [
              "   Unnamed: 0        Date  Monthly Mean Total Sunspot Number\n",
              "0           0  1749-01-31                               96.7\n",
              "1           1  1749-02-28                              104.3\n",
              "2           2  1749-03-31                              116.7\n",
              "3           3  1749-04-30                               92.8\n",
              "4           4  1749-05-31                              141.7"
            ]
          },
          "metadata": {
            "tags": []
          },
          "execution_count": 5
        }
      ]
    },
    {
      "cell_type": "markdown",
      "metadata": {
        "id": "a8f2D4RtpzIj"
      },
      "source": [
        "Membuka Dataset"
      ]
    },
    {
      "cell_type": "code",
      "metadata": {
        "colab": {
          "base_uri": "https://localhost:8080/",
          "height": 334
        },
        "id": "zE4hhS-UhBcr",
        "outputId": "bf4e54bc-599b-4d18-faf1-d19b11f86a09"
      },
      "source": [
        "import csv  #Mengimpor CSV\n",
        "time_step = []\n",
        "sunspot = []\n",
        "\n",
        "#Membuka File CSV\n",
        "with open('/content/drive/MyDrive/Dataset/Sunspots.csv') as csvfile:\n",
        "  reader = csv.reader(csvfile, delimiter=',')\n",
        "  next(reader)\n",
        "  for row in reader:\n",
        "    sunspot.append(float(row[2]))\n",
        "    time_step.append(int(row[0]))\n",
        "\n",
        "#Membuat Visualisasi Dataset\n",
        "series = np.array(sunspot)\n",
        "time = np.array(time_step)\n",
        "plt.figure(figsize=(9, 5))\n",
        "plot_series(time, series)"
      ],
      "execution_count": null,
      "outputs": [
        {
          "output_type": "display_data",
          "data": {
            "image/png": "[encoded data removed]",
            "text/plain": [
              "<Figure size 648x360 with 1 Axes>"
            ]
          },
          "metadata": {
            "tags": [],
            "needs_background": "light"
          }
        }
      ]
    },
    {
      "cell_type": "markdown",
      "metadata": {
        "id": "umvQxHJWp3lZ"
      },
      "source": [
        "Membagi Dataset"
      ]
    },
    {
      "cell_type": "code",
      "metadata": {
        "id": "8L6NPsZ7lPXo"
      },
      "source": [
        "split_time = 3000\n",
        "time_train = time[:split_time]\n",
        "x_train = series[:split_time]\n",
        "time_valid = time[split_time:]\n",
        "x_valid = series[split_time:]\n",
        "\n",
        "window_size = 30\n",
        "batch_size = 32\n",
        "shuffle_buffer_size = 1000"
      ],
      "execution_count": null,
      "outputs": []
    },
    {
      "cell_type": "markdown",
      "metadata": {
        "id": "0Dmxb2Wdp6Cj"
      },
      "source": [
        "Membuat Windowed Dataset"
      ]
    },
    {
      "cell_type": "code",
      "metadata": {
        "id": "sUnfCFDzuPSF"
      },
      "source": [
        "def windowed_dataset(series, window_size, batch_size, shuffle_buffer):\n",
        "    series = tf.expand_dims(series, axis=-1)\n",
        "    dataset = tf.data.Dataset.from_tensor_slices(series)\n",
        "    dataset = dataset.window(window_size + 1, shift=1, drop_remainder=True)\n",
        "    dataset = dataset.flat_map(lambda w: w.batch(window_size + 1))\n",
        "    dataset = dataset.shuffle(shuffle_buffer)\n",
        "    dataset = dataset.map(lambda w: (w[:-1], w[1:]))\n",
        "    return dataset.batch(batch_size).prefetch(1)"
      ],
      "execution_count": null,
      "outputs": []
    },
    {
      "cell_type": "markdown",
      "metadata": {
        "id": "j8WWZIxKp87b"
      },
      "source": [
        "Membuat Fungsi Untuk Memprediksi Model"
      ]
    },
    {
      "cell_type": "code",
      "metadata": {
        "id": "d3JO2Zq7uWps"
      },
      "source": [
        "def prediksi_model(model, series, window_size):\n",
        "    dataset = tf.data.Dataset.from_tensor_slices(series)\n",
        "    dataset = dataset.window(window_size, shift=1, drop_remainder=True)\n",
        "    dataset = dataset.flat_map(lambda w: w.batch(window_size))\n",
        "    dataset = dataset.batch(32).prefetch(1)\n",
        "    prediksi = model.predict(dataset)\n",
        "    return prediksi"
      ],
      "execution_count": null,
      "outputs": []
    },
    {
      "cell_type": "markdown",
      "metadata": {
        "id": "Y77sQ0RxqEba"
      },
      "source": [
        "Membuat Model"
      ]
    },
    {
      "cell_type": "code",
      "metadata": {
        "colab": {
          "base_uri": "https://localhost:8080/"
        },
        "id": "fU5jSadpufQ8",
        "outputId": "d775c192-25eb-439c-b7de-a025726f0b41"
      },
      "source": [
        "#Membersihkan Variabel luar\n",
        "tf.keras.backend.clear_session()\n",
        "tf.random.set_seed(51)\n",
        "np.random.seed(51)\n",
        "\n",
        "window_size = 64 #Mengatur Ukuran Window\n",
        "batch_size = 256 #Mengatur Ukuran Batch\n",
        "\n",
        "#Memanggil Windowed Dataset\n",
        "train_set = windowed_dataset(x_train, window_size, batch_size,\n",
        "                             shuffle_buffer_size)\n",
        "\n",
        "print(train_set) #Melihat shape train_set\n",
        "print(x_train.shape) #Melihat shape x_train\n",
        "\n",
        "#Membuat Model\n",
        "model = tf.keras.models.Sequential([\n",
        "  tf.keras.layers.Conv1D(filters=32, kernel_size=5,\n",
        "                      strides=1, padding=\"causal\",\n",
        "                      activation=\"relu\",\n",
        "                      input_shape=[None, 1]), #Membuat Layer CNN\n",
        "  tf.keras.layers.LSTM(64, return_sequences=True), #Membuat Layer lstm\n",
        "  tf.keras.layers.LSTM(64, return_sequences=True),\n",
        "  tf.keras.layers.Dense(30, activation=\"relu\"), #Membuat Dense Layer\n",
        "  tf.keras.layers.Dense(10, activation=\"relu\"),\n",
        "  tf.keras.layers.Dense(1),\n",
        "  tf.keras.layers.Lambda(lambda x: x * 400) #Membuat Lambda Layer\n",
        "])\n",
        "\n",
        "#Membuat Callbacks\n",
        "lr_schedule = tf.keras.callbacks.LearningRateScheduler(\n",
        "    lambda epoch: 1e-8 * 10**(epoch / 20))\n",
        "optimizer = tf.keras.optimizers.SGD(learning_rate=1e-8, momentum=0.9)\n",
        "\n",
        "#Mengcompile Model\n",
        "model.compile(loss=tf.keras.losses.Huber(),\n",
        "              optimizer=optimizer,\n",
        "              metrics=[\"mae\"])"
      ],
      "execution_count": null,
      "outputs": [
        {
          "output_type": "stream",
          "text": [
            "<PrefetchDataset shapes: ((None, None, 1), (None, None, 1)), types: (tf.float64, tf.float64)>\n",
            "(3000,)\n"
          ],
          "name": "stdout"
        }
      ]
    },
    {
      "cell_type": "code",
      "metadata": {
        "colab": {
          "base_uri": "https://localhost:8080/"
        },
        "id": "qur7PwXLPcjL",
        "outputId": "d89e8564-1e0a-42e8-a90c-ef35fed1c0ff"
      },
      "source": [
        "model.summary() #Melihat Summary Model"
      ],
      "execution_count": null,
      "outputs": [
        {
          "output_type": "stream",
          "text": [
            "Model: \"sequential\"\n",
            "_________________________________________________________________\n",
            "Layer (type)                 Output Shape              Param #   \n",
            "=================================================================\n",
            "conv1d (Conv1D)              (None, None, 32)          192       \n",
            "_________________________________________________________________\n",
            "lstm (LSTM)                  (None, None, 64)          24832     \n",
            "_________________________________________________________________\n",
            "lstm_1 (LSTM)                (None, None, 64)          33024     \n",
            "_________________________________________________________________\n",
            "dense (Dense)                (None, None, 30)          1950      \n",
            "_________________________________________________________________\n",
            "dense_1 (Dense)              (None, None, 10)          310       \n",
            "_________________________________________________________________\n",
            "dense_2 (Dense)              (None, None, 1)           11        \n",
            "_________________________________________________________________\n",
            "lambda (Lambda)              (None, None, 1)           0         \n",
            "=================================================================\n",
            "Total params: 60,319\n",
            "Trainable params: 60,319\n",
            "Non-trainable params: 0\n",
            "_________________________________________________________________\n"
          ],
          "name": "stdout"
        }
      ]
    },
    {
      "cell_type": "markdown",
      "metadata": {
        "id": "Qkk_yqkEqK2p"
      },
      "source": [
        "Mentraining Model"
      ]
    },
    {
      "cell_type": "code",
      "metadata": {
        "colab": {
          "base_uri": "https://localhost:8080/"
        },
        "id": "5iuIm-0xungk",
        "outputId": "79ba87c2-8a4a-4126-a013-6ae247a6d2b8"
      },
      "source": [
        "history = model.fit(train_set, epochs=100, callbacks=[lr_schedule])"
      ],
      "execution_count": null,
      "outputs": [
        {
          "output_type": "stream",
          "text": [
            "Epoch 1/100\n",
            "12/12 [==============================] - 11s 438ms/step - loss: 79.8340 - mae: 80.3314\n",
            "Epoch 2/100\n",
            "12/12 [==============================] - 5s 363ms/step - loss: 78.0944 - mae: 78.5918\n",
            "Epoch 3/100\n",
            "12/12 [==============================] - 5s 351ms/step - loss: 75.4519 - mae: 75.9497\n",
            "Epoch 4/100\n",
            "12/12 [==============================] - 4s 336ms/step - loss: 72.2679 - mae: 72.7658\n",
            "Epoch 5/100\n",
            "12/12 [==============================] - 4s 340ms/step - loss: 68.7693 - mae: 69.2672\n",
            "Epoch 6/100\n",
            "12/12 [==============================] - 4s 344ms/step - loss: 65.1128 - mae: 65.6099\n",
            "Epoch 7/100\n",
            "12/12 [==============================] - 4s 348ms/step - loss: 61.5272 - mae: 62.0241\n",
            "Epoch 8/100\n",
            "12/12 [==============================] - 4s 347ms/step - loss: 58.1406 - mae: 58.6369\n",
            "Epoch 9/100\n",
            "12/12 [==============================] - 4s 347ms/step - loss: 55.0732 - mae: 55.5697\n",
            "Epoch 10/100\n",
            "12/12 [==============================] - 4s 345ms/step - loss: 52.3436 - mae: 52.8399\n",
            "Epoch 11/100\n",
            "12/12 [==============================] - 4s 346ms/step - loss: 49.9148 - mae: 50.4113\n",
            "Epoch 12/100\n",
            "12/12 [==============================] - 4s 348ms/step - loss: 47.8592 - mae: 48.3560\n",
            "Epoch 13/100\n",
            "12/12 [==============================] - 4s 341ms/step - loss: 46.0553 - mae: 46.5517\n",
            "Epoch 14/100\n",
            "12/12 [==============================] - 4s 340ms/step - loss: 44.5444 - mae: 45.0406\n",
            "Epoch 15/100\n",
            "12/12 [==============================] - 4s 349ms/step - loss: 43.3078 - mae: 43.8045\n",
            "Epoch 16/100\n",
            "12/12 [==============================] - 4s 341ms/step - loss: 42.2855 - mae: 42.7826\n",
            "Epoch 17/100\n",
            "12/12 [==============================] - 4s 341ms/step - loss: 41.3797 - mae: 41.8767\n",
            "Epoch 18/100\n",
            "12/12 [==============================] - 4s 344ms/step - loss: 40.5481 - mae: 41.0453\n",
            "Epoch 19/100\n",
            "12/12 [==============================] - 4s 343ms/step - loss: 39.7690 - mae: 40.2659\n",
            "Epoch 20/100\n",
            "12/12 [==============================] - 4s 340ms/step - loss: 39.0213 - mae: 39.5181\n",
            "Epoch 21/100\n",
            "12/12 [==============================] - 4s 352ms/step - loss: 38.2735 - mae: 38.7699\n",
            "Epoch 22/100\n",
            "12/12 [==============================] - 4s 348ms/step - loss: 37.4213 - mae: 37.9177\n",
            "Epoch 23/100\n",
            "12/12 [==============================] - 5s 366ms/step - loss: 36.3871 - mae: 36.8838\n",
            "Epoch 24/100\n",
            "12/12 [==============================] - 4s 345ms/step - loss: 35.3026 - mae: 35.7989\n",
            "Epoch 25/100\n",
            "12/12 [==============================] - 4s 352ms/step - loss: 34.0845 - mae: 34.5803\n",
            "Epoch 26/100\n",
            "12/12 [==============================] - 4s 345ms/step - loss: 32.9493 - mae: 33.4450\n",
            "Epoch 27/100\n",
            "12/12 [==============================] - 4s 352ms/step - loss: 31.8637 - mae: 32.3592\n",
            "Epoch 28/100\n",
            "12/12 [==============================] - 4s 343ms/step - loss: 31.1223 - mae: 31.6180\n",
            "Epoch 29/100\n",
            "12/12 [==============================] - 4s 346ms/step - loss: 30.3457 - mae: 30.8413\n",
            "Epoch 30/100\n",
            "12/12 [==============================] - 4s 346ms/step - loss: 29.6153 - mae: 30.1107\n",
            "Epoch 31/100\n",
            "12/12 [==============================] - 4s 343ms/step - loss: 29.0288 - mae: 29.5241\n",
            "Epoch 32/100\n",
            "12/12 [==============================] - 4s 345ms/step - loss: 28.5887 - mae: 29.0841\n",
            "Epoch 33/100\n",
            "12/12 [==============================] - 5s 355ms/step - loss: 28.1762 - mae: 28.6712\n",
            "Epoch 34/100\n",
            "12/12 [==============================] - 4s 348ms/step - loss: 28.0410 - mae: 28.5358\n",
            "Epoch 35/100\n",
            "12/12 [==============================] - 4s 346ms/step - loss: 28.2323 - mae: 28.7269\n",
            "Epoch 36/100\n",
            "12/12 [==============================] - 4s 345ms/step - loss: 27.4883 - mae: 27.9828\n",
            "Epoch 37/100\n",
            "12/12 [==============================] - 5s 357ms/step - loss: 27.3053 - mae: 27.7999\n",
            "Epoch 38/100\n",
            "12/12 [==============================] - 4s 344ms/step - loss: 26.8076 - mae: 27.3021\n",
            "Epoch 39/100\n",
            "12/12 [==============================] - 4s 344ms/step - loss: 26.5051 - mae: 26.9996\n",
            "Epoch 40/100\n",
            "12/12 [==============================] - 4s 351ms/step - loss: 26.3355 - mae: 26.8303\n",
            "Epoch 41/100\n",
            "12/12 [==============================] - 4s 350ms/step - loss: 26.0367 - mae: 26.5313\n",
            "Epoch 42/100\n",
            "12/12 [==============================] - 4s 348ms/step - loss: 25.6251 - mae: 26.1193\n",
            "Epoch 43/100\n",
            "12/12 [==============================] - 4s 349ms/step - loss: 25.1158 - mae: 25.6100\n",
            "Epoch 44/100\n",
            "12/12 [==============================] - 4s 340ms/step - loss: 24.6442 - mae: 25.1386\n",
            "Epoch 45/100\n",
            "12/12 [==============================] - 4s 348ms/step - loss: 24.0656 - mae: 24.5598\n",
            "Epoch 46/100\n",
            "12/12 [==============================] - 4s 352ms/step - loss: 23.7323 - mae: 24.2262\n",
            "Epoch 47/100\n",
            "12/12 [==============================] - 4s 349ms/step - loss: 23.3711 - mae: 23.8651\n",
            "Epoch 48/100\n",
            "12/12 [==============================] - 4s 346ms/step - loss: 22.9606 - mae: 23.4548\n",
            "Epoch 49/100\n",
            "12/12 [==============================] - 4s 352ms/step - loss: 22.5860 - mae: 23.0799\n",
            "Epoch 50/100\n",
            "12/12 [==============================] - 4s 345ms/step - loss: 22.2992 - mae: 22.7931\n",
            "Epoch 51/100\n",
            "12/12 [==============================] - 4s 344ms/step - loss: 22.4322 - mae: 22.9261\n",
            "Epoch 52/100\n",
            "12/12 [==============================] - 4s 337ms/step - loss: 21.8587 - mae: 22.3529\n",
            "Epoch 53/100\n",
            "12/12 [==============================] - 4s 343ms/step - loss: 21.5027 - mae: 21.9966\n",
            "Epoch 54/100\n",
            "12/12 [==============================] - 4s 341ms/step - loss: 21.2799 - mae: 21.7737\n",
            "Epoch 55/100\n",
            "12/12 [==============================] - 4s 342ms/step - loss: 21.1995 - mae: 21.6933\n",
            "Epoch 56/100\n",
            "12/12 [==============================] - 4s 345ms/step - loss: 21.1169 - mae: 21.6106\n",
            "Epoch 57/100\n",
            "12/12 [==============================] - 4s 347ms/step - loss: 20.8161 - mae: 21.3095\n",
            "Epoch 58/100\n",
            "12/12 [==============================] - 4s 351ms/step - loss: 20.5534 - mae: 21.0470\n",
            "Epoch 59/100\n",
            "12/12 [==============================] - 4s 346ms/step - loss: 20.5402 - mae: 21.0336\n",
            "Epoch 60/100\n",
            "12/12 [==============================] - 4s 345ms/step - loss: 19.9369 - mae: 20.4299\n",
            "Epoch 61/100\n",
            "12/12 [==============================] - 4s 346ms/step - loss: 19.8945 - mae: 20.3876\n",
            "Epoch 62/100\n",
            "12/12 [==============================] - 4s 342ms/step - loss: 20.2059 - mae: 20.6992\n",
            "Epoch 63/100\n",
            "12/12 [==============================] - 4s 346ms/step - loss: 19.1828 - mae: 19.6758\n",
            "Epoch 64/100\n",
            "12/12 [==============================] - 5s 350ms/step - loss: 21.6300 - mae: 22.1238\n",
            "Epoch 65/100\n",
            "12/12 [==============================] - 4s 349ms/step - loss: 21.3942 - mae: 21.8880\n",
            "Epoch 66/100\n",
            "12/12 [==============================] - 4s 343ms/step - loss: 19.6110 - mae: 20.1039\n",
            "Epoch 67/100\n",
            "12/12 [==============================] - 4s 347ms/step - loss: 21.3441 - mae: 21.8377\n",
            "Epoch 68/100\n",
            "12/12 [==============================] - 4s 345ms/step - loss: 22.4560 - mae: 22.9502\n",
            "Epoch 69/100\n",
            "12/12 [==============================] - 4s 342ms/step - loss: 19.6453 - mae: 20.1384\n",
            "Epoch 70/100\n",
            "12/12 [==============================] - 4s 343ms/step - loss: 22.4343 - mae: 22.9279\n",
            "Epoch 71/100\n",
            "12/12 [==============================] - 4s 344ms/step - loss: 22.3443 - mae: 22.8380\n",
            "Epoch 72/100\n",
            "12/12 [==============================] - 4s 343ms/step - loss: 19.9582 - mae: 20.4507\n",
            "Epoch 73/100\n",
            "12/12 [==============================] - 4s 347ms/step - loss: 25.3664 - mae: 25.8602\n",
            "Epoch 74/100\n",
            "12/12 [==============================] - 4s 347ms/step - loss: 20.2774 - mae: 20.7701\n",
            "Epoch 75/100\n",
            "12/12 [==============================] - 4s 346ms/step - loss: 21.1925 - mae: 21.6855\n",
            "Epoch 76/100\n",
            "12/12 [==============================] - 4s 343ms/step - loss: 19.2687 - mae: 19.7611\n",
            "Epoch 77/100\n",
            "12/12 [==============================] - 4s 350ms/step - loss: 19.7354 - mae: 20.2278\n",
            "Epoch 78/100\n",
            "12/12 [==============================] - 4s 343ms/step - loss: 19.9527 - mae: 20.4453\n",
            "Epoch 79/100\n",
            "12/12 [==============================] - 4s 346ms/step - loss: 20.5807 - mae: 21.0739\n",
            "Epoch 80/100\n",
            "12/12 [==============================] - 4s 350ms/step - loss: 23.6212 - mae: 24.1151\n",
            "Epoch 81/100\n",
            "12/12 [==============================] - 4s 338ms/step - loss: 26.2617 - mae: 26.7562\n",
            "Epoch 82/100\n",
            "12/12 [==============================] - 4s 342ms/step - loss: 26.0225 - mae: 26.5171\n",
            "Epoch 83/100\n",
            "12/12 [==============================] - 4s 336ms/step - loss: 23.1907 - mae: 23.6845\n",
            "Epoch 84/100\n",
            "12/12 [==============================] - 4s 340ms/step - loss: 25.4036 - mae: 25.8973\n",
            "Epoch 85/100\n",
            "12/12 [==============================] - 4s 343ms/step - loss: 40.5623 - mae: 41.0592\n",
            "Epoch 86/100\n",
            "12/12 [==============================] - 4s 340ms/step - loss: 40.4329 - mae: 40.9299\n",
            "Epoch 87/100\n",
            "12/12 [==============================] - 4s 340ms/step - loss: 31.1314 - mae: 31.6268\n",
            "Epoch 88/100\n",
            "12/12 [==============================] - 4s 338ms/step - loss: 35.6890 - mae: 36.1851\n",
            "Epoch 89/100\n",
            "12/12 [==============================] - 4s 341ms/step - loss: 34.3749 - mae: 34.8710\n",
            "Epoch 90/100\n",
            "12/12 [==============================] - 4s 344ms/step - loss: 52.9744 - mae: 53.4722\n",
            "Epoch 91/100\n",
            "12/12 [==============================] - 4s 342ms/step - loss: 36.9946 - mae: 37.4907\n",
            "Epoch 92/100\n",
            "12/12 [==============================] - 4s 345ms/step - loss: 39.7398 - mae: 40.2370\n",
            "Epoch 93/100\n",
            "12/12 [==============================] - 4s 346ms/step - loss: 40.7320 - mae: 41.2290\n",
            "Epoch 94/100\n",
            "12/12 [==============================] - 4s 340ms/step - loss: 64.5547 - mae: 65.0531\n",
            "Epoch 95/100\n",
            "12/12 [==============================] - 4s 346ms/step - loss: 50.6467 - mae: 51.1444\n",
            "Epoch 96/100\n",
            "12/12 [==============================] - 4s 347ms/step - loss: 86.3333 - mae: 86.8323\n",
            "Epoch 97/100\n",
            "12/12 [==============================] - 4s 342ms/step - loss: 56.5661 - mae: 57.0643\n",
            "Epoch 98/100\n",
            "12/12 [==============================] - 4s 345ms/step - loss: 54.7847 - mae: 55.2831\n",
            "Epoch 99/100\n",
            "12/12 [==============================] - 4s 348ms/step - loss: 54.8877 - mae: 55.3857\n",
            "Epoch 100/100\n",
            "12/12 [==============================] - 5s 355ms/step - loss: 55.3395 - mae: 55.8378\n"
          ],
          "name": "stdout"
        }
      ]
    },
    {
      "cell_type": "markdown",
      "metadata": {
        "id": "7Hb21EBAtdFZ"
      },
      "source": [
        "Visualisasi Hasil Prediksi"
      ]
    },
    {
      "cell_type": "code",
      "metadata": {
        "id": "KkUuzsxUs61b",
        "colab": {
          "base_uri": "https://localhost:8080/",
          "height": 334
        },
        "outputId": "7152fa96-00c4-4ba8-e857-af7243f44743"
      },
      "source": [
        "prediksi_rnn = prediksi_model(model, series[..., np.newaxis], window_size)\n",
        "prediksi_rnn = prediksi_rnn[split_time - window_size:-1, -1, 0]\n",
        "\n",
        "plt.figure(figsize=(9, 5))\n",
        "plot_series(time_valid, x_valid)\n",
        "plot_series(time_valid, prediksi_rnn)"
      ],
      "execution_count": null,
      "outputs": [
        {
          "output_type": "display_data",
          "data": {
            "image/png": "[encoded data removed]",
            "text/plain": [
              "<Figure size 648x360 with 1 Axes>"
            ]
          },
          "metadata": {
            "tags": [],
            "needs_background": "light"
          }
        }
      ]
    },
    {
      "cell_type": "markdown",
      "metadata": {
        "id": "TcnhBC_XthGt"
      },
      "source": [
        "Mengukur MAE"
      ]
    },
    {
      "cell_type": "code",
      "metadata": {
        "id": "dBTWpcPIs8Ya",
        "colab": {
          "base_uri": "https://localhost:8080/"
        },
        "outputId": "e939203d-e4a2-4d61-e405-62d262bb6b05"
      },
      "source": [
        "tf.keras.metrics.mean_absolute_error(x_valid, prediksi_rnn).numpy()"
      ],
      "execution_count": null,
      "outputs": [
        {
          "output_type": "execute_result",
          "data": {
            "text/plain": [
              "52.40565"
            ]
          },
          "metadata": {
            "tags": []
          },
          "execution_count": 14
        }
      ]
    },
    {
      "cell_type": "markdown",
      "metadata": {
        "id": "F3i2ql66qUE3"
      },
      "source": [
        "# Memperbaiki Model"
      ]
    },
    {
      "cell_type": "markdown",
      "metadata": {
        "id": "luuQcruLqOnq"
      },
      "source": [
        "Mencari Nilai Optimum"
      ]
    },
    {
      "cell_type": "code",
      "metadata": {
        "colab": {
          "base_uri": "https://localhost:8080/",
          "height": 290
        },
        "id": "Zh4x-3N0xZx1",
        "outputId": "b5915ebc-5f29-4afb-b246-08f3821280f0"
      },
      "source": [
        "plt.semilogx(history.history[\"lr\"], history.history[\"loss\"])\n",
        "plt.axis([1e-8, 1e-4, 0, 60])"
      ],
      "execution_count": null,
      "outputs": [
        {
          "output_type": "execute_result",
          "data": {
            "text/plain": [
              "(1e-08, 0.0001, 0.0, 60.0)"
            ]
          },
          "metadata": {
            "tags": []
          },
          "execution_count": 15
        },
        {
          "output_type": "display_data",
          "data": {
            "image/png": "[encoded data removed]",
            "text/plain": [
              "<Figure size 432x288 with 1 Axes>"
            ]
          },
          "metadata": {
            "tags": [],
            "needs_background": "light"
          }
        }
      ]
    },
    {
      "cell_type": "markdown",
      "metadata": {
        "id": "iFEQg7nAqbaN"
      },
      "source": [
        "Membuat Model Baru"
      ]
    },
    {
      "cell_type": "code",
      "metadata": {
        "id": "3eqW_GXZyEbo"
      },
      "source": [
        "tf.keras.backend.clear_session()\n",
        "tf.random.set_seed(51)\n",
        "np.random.seed(51)\n",
        "train_set = windowed_dataset(x_train, window_size=60, batch_size=100, \n",
        "                             shuffle_buffer=shuffle_buffer_size)\n",
        "model = tf.keras.models.Sequential([\n",
        "  tf.keras.layers.Conv1D(filters=60, kernel_size=5,\n",
        "                      strides=1, padding=\"causal\",\n",
        "                      activation=\"relu\",\n",
        "                      input_shape=[None, 1]),\n",
        "  tf.keras.layers.LSTM(60, return_sequences=True),\n",
        "  tf.keras.layers.LSTM(60, return_sequences=True),\n",
        "  tf.keras.layers.Dense(30, activation=\"relu\"),\n",
        "  tf.keras.layers.Dense(10, activation=\"relu\"),\n",
        "  tf.keras.layers.Dense(1),\n",
        "  tf.keras.layers.Lambda(lambda x: x * 400)\n",
        "])\n",
        "\n",
        "\n",
        "optimizer = tf.keras.optimizers.SGD(learning_rate=1e-5, momentum=0.9)\n",
        "model.compile(loss=tf.keras.losses.Huber(),\n",
        "              optimizer=optimizer,\n",
        "              metrics=[\"mae\"])"
      ],
      "execution_count": null,
      "outputs": []
    },
    {
      "cell_type": "markdown",
      "metadata": {
        "id": "L6Do3br6qdmH"
      },
      "source": [
        "Mentraining Model"
      ]
    },
    {
      "cell_type": "code",
      "metadata": {
        "colab": {
          "base_uri": "https://localhost:8080/"
        },
        "id": "IqM83IQXyPZx",
        "outputId": "c7935893-d04e-4338-9c53-aebb494fbaa1"
      },
      "source": [
        "history = model.fit(train_set,epochs=500)"
      ],
      "execution_count": null,
      "outputs": [
        {
          "output_type": "stream",
          "text": [
            "Epoch 1/500\n",
            "30/30 [==============================] - 8s 134ms/step - loss: 38.9180 - mae: 39.4144\n",
            "Epoch 2/500\n",
            "30/30 [==============================] - 4s 131ms/step - loss: 25.7652 - mae: 26.2597\n",
            "Epoch 3/500\n",
            "30/30 [==============================] - 4s 132ms/step - loss: 22.0764 - mae: 22.5701\n",
            "Epoch 4/500\n",
            "30/30 [==============================] - 4s 133ms/step - loss: 20.4606 - mae: 20.9535\n",
            "Epoch 5/500\n",
            "30/30 [==============================] - 4s 131ms/step - loss: 19.7099 - mae: 20.2024\n",
            "Epoch 6/500\n",
            "30/30 [==============================] - 4s 133ms/step - loss: 19.3147 - mae: 19.8068\n",
            "Epoch 7/500\n",
            "30/30 [==============================] - 4s 133ms/step - loss: 18.7048 - mae: 19.1970\n",
            "Epoch 8/500\n",
            "30/30 [==============================] - 4s 134ms/step - loss: 18.1249 - mae: 18.6166\n",
            "Epoch 9/500\n",
            "30/30 [==============================] - 4s 132ms/step - loss: 18.0666 - mae: 18.5581\n",
            "Epoch 10/500\n",
            "30/30 [==============================] - 4s 133ms/step - loss: 17.9098 - mae: 18.4011\n",
            "Epoch 11/500\n",
            "30/30 [==============================] - 4s 132ms/step - loss: 20.0942 - mae: 20.5858\n",
            "Epoch 12/500\n",
            "30/30 [==============================] - 4s 134ms/step - loss: 17.9473 - mae: 18.4387\n",
            "Epoch 13/500\n",
            "30/30 [==============================] - 4s 134ms/step - loss: 17.7541 - mae: 18.2449\n",
            "Epoch 14/500\n",
            "30/30 [==============================] - 4s 130ms/step - loss: 17.7261 - mae: 18.2167\n",
            "Epoch 15/500\n",
            "30/30 [==============================] - 4s 144ms/step - loss: 17.9962 - mae: 18.4869\n",
            "Epoch 16/500\n",
            "30/30 [==============================] - 4s 132ms/step - loss: 18.2012 - mae: 18.6920\n",
            "Epoch 17/500\n",
            "30/30 [==============================] - 4s 133ms/step - loss: 17.5693 - mae: 18.0601\n",
            "Epoch 18/500\n",
            "30/30 [==============================] - 4s 132ms/step - loss: 17.5229 - mae: 18.0136\n",
            "Epoch 19/500\n",
            "30/30 [==============================] - 4s 133ms/step - loss: 17.3013 - mae: 17.7921\n",
            "Epoch 20/500\n",
            "30/30 [==============================] - 4s 134ms/step - loss: 17.3136 - mae: 17.8044\n",
            "Epoch 21/500\n",
            "30/30 [==============================] - 4s 134ms/step - loss: 17.5379 - mae: 18.0287\n",
            "Epoch 22/500\n",
            "30/30 [==============================] - 4s 132ms/step - loss: 17.2937 - mae: 17.7843\n",
            "Epoch 23/500\n",
            "30/30 [==============================] - 4s 134ms/step - loss: 17.1435 - mae: 17.6342\n",
            "Epoch 24/500\n",
            "30/30 [==============================] - 4s 132ms/step - loss: 17.1730 - mae: 17.6634\n",
            "Epoch 25/500\n",
            "30/30 [==============================] - 4s 135ms/step - loss: 17.1071 - mae: 17.5976\n",
            "Epoch 26/500\n",
            "30/30 [==============================] - 4s 137ms/step - loss: 17.1836 - mae: 17.6739\n",
            "Epoch 27/500\n",
            "30/30 [==============================] - 4s 134ms/step - loss: 17.1822 - mae: 17.6726\n",
            "Epoch 28/500\n",
            "30/30 [==============================] - 4s 136ms/step - loss: 17.2083 - mae: 17.6986\n",
            "Epoch 29/500\n",
            "30/30 [==============================] - 4s 136ms/step - loss: 16.9960 - mae: 17.4864\n",
            "Epoch 30/500\n",
            "30/30 [==============================] - 4s 136ms/step - loss: 17.2189 - mae: 17.7092\n",
            "Epoch 31/500\n",
            "30/30 [==============================] - 4s 136ms/step - loss: 17.3422 - mae: 17.8324\n",
            "Epoch 32/500\n",
            "30/30 [==============================] - 4s 138ms/step - loss: 16.9839 - mae: 17.4743\n",
            "Epoch 33/500\n",
            "30/30 [==============================] - 4s 134ms/step - loss: 16.9679 - mae: 17.4579\n",
            "Epoch 34/500\n",
            "30/30 [==============================] - 4s 133ms/step - loss: 16.9712 - mae: 17.4614\n",
            "Epoch 35/500\n",
            "30/30 [==============================] - 4s 133ms/step - loss: 16.9274 - mae: 17.4175\n",
            "Epoch 36/500\n",
            "30/30 [==============================] - 4s 134ms/step - loss: 16.9546 - mae: 17.4449\n",
            "Epoch 37/500\n",
            "30/30 [==============================] - 4s 134ms/step - loss: 17.0124 - mae: 17.5026\n",
            "Epoch 38/500\n",
            "30/30 [==============================] - 4s 134ms/step - loss: 16.9524 - mae: 17.4426\n",
            "Epoch 39/500\n",
            "30/30 [==============================] - 4s 135ms/step - loss: 17.1748 - mae: 17.6649\n",
            "Epoch 40/500\n",
            "30/30 [==============================] - 4s 135ms/step - loss: 16.9708 - mae: 17.4606\n",
            "Epoch 41/500\n",
            "30/30 [==============================] - 4s 133ms/step - loss: 16.9012 - mae: 17.3910\n",
            "Epoch 42/500\n",
            "30/30 [==============================] - 4s 135ms/step - loss: 16.7865 - mae: 17.2763\n",
            "Epoch 43/500\n",
            "30/30 [==============================] - 4s 132ms/step - loss: 16.8109 - mae: 17.3006\n",
            "Epoch 44/500\n",
            "30/30 [==============================] - 4s 133ms/step - loss: 17.4535 - mae: 17.9437\n",
            "Epoch 45/500\n",
            "30/30 [==============================] - 4s 134ms/step - loss: 16.9560 - mae: 17.4458\n",
            "Epoch 46/500\n",
            "30/30 [==============================] - 4s 135ms/step - loss: 16.8132 - mae: 17.3027\n",
            "Epoch 47/500\n",
            "30/30 [==============================] - 4s 134ms/step - loss: 16.8892 - mae: 17.3786\n",
            "Epoch 48/500\n",
            "30/30 [==============================] - 4s 134ms/step - loss: 16.8041 - mae: 17.2935\n",
            "Epoch 49/500\n",
            "30/30 [==============================] - 4s 134ms/step - loss: 16.8811 - mae: 17.3708\n",
            "Epoch 50/500\n",
            "30/30 [==============================] - 4s 134ms/step - loss: 16.7104 - mae: 17.1997\n",
            "Epoch 51/500\n",
            "30/30 [==============================] - 4s 133ms/step - loss: 16.7549 - mae: 17.2442\n",
            "Epoch 52/500\n",
            "30/30 [==============================] - 4s 137ms/step - loss: 16.9961 - mae: 17.4855\n",
            "Epoch 53/500\n",
            "30/30 [==============================] - 4s 136ms/step - loss: 16.7255 - mae: 17.2149\n",
            "Epoch 54/500\n",
            "30/30 [==============================] - 4s 135ms/step - loss: 16.7429 - mae: 17.2321\n",
            "Epoch 55/500\n",
            "30/30 [==============================] - 4s 137ms/step - loss: 16.8494 - mae: 17.3388\n",
            "Epoch 56/500\n",
            "30/30 [==============================] - 4s 138ms/step - loss: 16.6857 - mae: 17.1749\n",
            "Epoch 57/500\n",
            "30/30 [==============================] - 4s 139ms/step - loss: 16.6747 - mae: 17.1640\n",
            "Epoch 58/500\n",
            "30/30 [==============================] - 4s 141ms/step - loss: 16.6478 - mae: 17.1367\n",
            "Epoch 59/500\n",
            "30/30 [==============================] - 4s 136ms/step - loss: 16.7679 - mae: 17.2568\n",
            "Epoch 60/500\n",
            "30/30 [==============================] - 4s 137ms/step - loss: 16.5758 - mae: 17.0649\n",
            "Epoch 61/500\n",
            "30/30 [==============================] - 4s 138ms/step - loss: 16.7162 - mae: 17.2055\n",
            "Epoch 62/500\n",
            "30/30 [==============================] - 4s 133ms/step - loss: 16.5638 - mae: 17.0528\n",
            "Epoch 63/500\n",
            "30/30 [==============================] - 4s 134ms/step - loss: 16.5842 - mae: 17.0731\n",
            "Epoch 64/500\n",
            "30/30 [==============================] - 4s 135ms/step - loss: 16.5467 - mae: 17.0354\n",
            "Epoch 65/500\n",
            "30/30 [==============================] - 4s 140ms/step - loss: 16.5231 - mae: 17.0118\n",
            "Epoch 66/500\n",
            "30/30 [==============================] - 4s 135ms/step - loss: 16.7177 - mae: 17.2073\n",
            "Epoch 67/500\n",
            "30/30 [==============================] - 4s 135ms/step - loss: 16.5698 - mae: 17.0584\n",
            "Epoch 68/500\n",
            "30/30 [==============================] - 4s 134ms/step - loss: 16.5539 - mae: 17.0428\n",
            "Epoch 69/500\n",
            "30/30 [==============================] - 4s 134ms/step - loss: 16.5326 - mae: 17.0209\n",
            "Epoch 70/500\n",
            "30/30 [==============================] - 4s 133ms/step - loss: 16.6882 - mae: 17.1771\n",
            "Epoch 71/500\n",
            "30/30 [==============================] - 4s 135ms/step - loss: 16.5160 - mae: 17.0050\n",
            "Epoch 72/500\n",
            "30/30 [==============================] - 4s 135ms/step - loss: 16.4654 - mae: 16.9543\n",
            "Epoch 73/500\n",
            "30/30 [==============================] - 4s 135ms/step - loss: 16.4977 - mae: 16.9860\n",
            "Epoch 74/500\n",
            "30/30 [==============================] - 4s 139ms/step - loss: 16.6407 - mae: 17.1297\n",
            "Epoch 75/500\n",
            "30/30 [==============================] - 4s 136ms/step - loss: 16.5032 - mae: 16.9918\n",
            "Epoch 76/500\n",
            "30/30 [==============================] - 4s 134ms/step - loss: 16.4380 - mae: 16.9265\n",
            "Epoch 77/500\n",
            "30/30 [==============================] - 4s 137ms/step - loss: 16.4383 - mae: 16.9269\n",
            "Epoch 78/500\n",
            "30/30 [==============================] - 4s 135ms/step - loss: 16.5151 - mae: 17.0039\n",
            "Epoch 79/500\n",
            "30/30 [==============================] - 4s 133ms/step - loss: 16.4605 - mae: 16.9492\n",
            "Epoch 80/500\n",
            "30/30 [==============================] - 5s 147ms/step - loss: 16.6006 - mae: 17.0898\n",
            "Epoch 81/500\n",
            "30/30 [==============================] - 4s 134ms/step - loss: 16.5438 - mae: 17.0323\n",
            "Epoch 82/500\n",
            "30/30 [==============================] - 4s 133ms/step - loss: 16.4196 - mae: 16.9078\n",
            "Epoch 83/500\n",
            "30/30 [==============================] - 4s 134ms/step - loss: 16.3940 - mae: 16.8825\n",
            "Epoch 84/500\n",
            "30/30 [==============================] - 4s 136ms/step - loss: 16.3774 - mae: 16.8657\n",
            "Epoch 85/500\n",
            "30/30 [==============================] - 4s 133ms/step - loss: 16.5222 - mae: 17.0110\n",
            "Epoch 86/500\n",
            "30/30 [==============================] - 4s 134ms/step - loss: 16.5359 - mae: 17.0246\n",
            "Epoch 87/500\n",
            "30/30 [==============================] - 4s 134ms/step - loss: 16.3625 - mae: 16.8509\n",
            "Epoch 88/500\n",
            "30/30 [==============================] - 4s 134ms/step - loss: 16.3402 - mae: 16.8289\n",
            "Epoch 89/500\n",
            "30/30 [==============================] - 4s 135ms/step - loss: 16.3770 - mae: 16.8656\n",
            "Epoch 90/500\n",
            "30/30 [==============================] - 4s 134ms/step - loss: 16.4139 - mae: 16.9024\n",
            "Epoch 91/500\n",
            "30/30 [==============================] - 4s 137ms/step - loss: 16.4365 - mae: 16.9256\n",
            "Epoch 92/500\n",
            "30/30 [==============================] - 4s 133ms/step - loss: 16.4407 - mae: 16.9292\n",
            "Epoch 93/500\n",
            "30/30 [==============================] - 4s 134ms/step - loss: 16.4618 - mae: 16.9512\n",
            "Epoch 94/500\n",
            "30/30 [==============================] - 4s 134ms/step - loss: 16.6375 - mae: 17.1261\n",
            "Epoch 95/500\n",
            "30/30 [==============================] - 4s 134ms/step - loss: 16.5036 - mae: 16.9926\n",
            "Epoch 96/500\n",
            "30/30 [==============================] - 4s 132ms/step - loss: 16.3280 - mae: 16.8166\n",
            "Epoch 97/500\n",
            "30/30 [==============================] - 4s 135ms/step - loss: 16.3653 - mae: 16.8541\n",
            "Epoch 98/500\n",
            "30/30 [==============================] - 4s 137ms/step - loss: 16.3067 - mae: 16.7954\n",
            "Epoch 99/500\n",
            "30/30 [==============================] - 4s 132ms/step - loss: 16.3435 - mae: 16.8320\n",
            "Epoch 100/500\n",
            "30/30 [==============================] - 4s 137ms/step - loss: 16.2274 - mae: 16.7159\n",
            "Epoch 101/500\n",
            "30/30 [==============================] - 4s 134ms/step - loss: 16.2410 - mae: 16.7297\n",
            "Epoch 102/500\n",
            "30/30 [==============================] - 4s 138ms/step - loss: 16.2430 - mae: 16.7314\n",
            "Epoch 103/500\n",
            "30/30 [==============================] - 4s 133ms/step - loss: 16.2931 - mae: 16.7817\n",
            "Epoch 104/500\n",
            "30/30 [==============================] - 4s 135ms/step - loss: 16.5327 - mae: 17.0219\n",
            "Epoch 105/500\n",
            "30/30 [==============================] - 4s 132ms/step - loss: 16.2832 - mae: 16.7716\n",
            "Epoch 106/500\n",
            "30/30 [==============================] - 4s 135ms/step - loss: 16.2322 - mae: 16.7206\n",
            "Epoch 107/500\n",
            "30/30 [==============================] - 4s 135ms/step - loss: 16.2477 - mae: 16.7362\n",
            "Epoch 108/500\n",
            "30/30 [==============================] - 4s 134ms/step - loss: 16.3122 - mae: 16.8010\n",
            "Epoch 109/500\n",
            "30/30 [==============================] - 4s 133ms/step - loss: 16.2443 - mae: 16.7331\n",
            "Epoch 110/500\n",
            "30/30 [==============================] - 4s 134ms/step - loss: 16.2148 - mae: 16.7032\n",
            "Epoch 111/500\n",
            "30/30 [==============================] - 4s 131ms/step - loss: 16.2106 - mae: 16.6992\n",
            "Epoch 112/500\n",
            "30/30 [==============================] - 4s 133ms/step - loss: 16.2534 - mae: 16.7424\n",
            "Epoch 113/500\n",
            "30/30 [==============================] - 4s 131ms/step - loss: 16.3655 - mae: 16.8547\n",
            "Epoch 114/500\n",
            "30/30 [==============================] - 4s 131ms/step - loss: 16.2091 - mae: 16.6977\n",
            "Epoch 115/500\n",
            "30/30 [==============================] - 4s 135ms/step - loss: 16.2344 - mae: 16.7228\n",
            "Epoch 116/500\n",
            "30/30 [==============================] - 4s 133ms/step - loss: 16.2644 - mae: 16.7534\n",
            "Epoch 117/500\n",
            "30/30 [==============================] - 4s 133ms/step - loss: 16.1924 - mae: 16.6812\n",
            "Epoch 118/500\n",
            "30/30 [==============================] - 4s 133ms/step - loss: 16.1670 - mae: 16.6558\n",
            "Epoch 119/500\n",
            "30/30 [==============================] - 4s 133ms/step - loss: 16.1391 - mae: 16.6278\n",
            "Epoch 120/500\n",
            "30/30 [==============================] - 4s 132ms/step - loss: 16.2306 - mae: 16.7192\n",
            "Epoch 121/500\n",
            "30/30 [==============================] - 4s 133ms/step - loss: 16.5878 - mae: 17.0770\n",
            "Epoch 122/500\n",
            "30/30 [==============================] - 4s 132ms/step - loss: 16.2105 - mae: 16.6991\n",
            "Epoch 123/500\n",
            "30/30 [==============================] - 4s 133ms/step - loss: 16.1227 - mae: 16.6114\n",
            "Epoch 124/500\n",
            "30/30 [==============================] - 4s 133ms/step - loss: 16.3604 - mae: 16.8491\n",
            "Epoch 125/500\n",
            "30/30 [==============================] - 4s 133ms/step - loss: 16.3024 - mae: 16.7914\n",
            "Epoch 126/500\n",
            "30/30 [==============================] - 4s 134ms/step - loss: 16.2432 - mae: 16.7320\n",
            "Epoch 127/500\n",
            "30/30 [==============================] - 4s 133ms/step - loss: 16.3131 - mae: 16.8021\n",
            "Epoch 128/500\n",
            "30/30 [==============================] - 4s 136ms/step - loss: 16.1657 - mae: 16.6542\n",
            "Epoch 129/500\n",
            "30/30 [==============================] - 4s 133ms/step - loss: 16.1451 - mae: 16.6337\n",
            "Epoch 130/500\n",
            "30/30 [==============================] - 4s 132ms/step - loss: 16.0847 - mae: 16.5732\n",
            "Epoch 131/500\n",
            "30/30 [==============================] - 4s 134ms/step - loss: 16.0929 - mae: 16.5813\n",
            "Epoch 132/500\n",
            "30/30 [==============================] - 4s 134ms/step - loss: 16.0756 - mae: 16.5640\n",
            "Epoch 133/500\n",
            "30/30 [==============================] - 4s 133ms/step - loss: 16.0683 - mae: 16.5568\n",
            "Epoch 134/500\n",
            "30/30 [==============================] - 4s 134ms/step - loss: 16.1536 - mae: 16.6423\n",
            "Epoch 135/500\n",
            "30/30 [==============================] - 4s 132ms/step - loss: 16.2348 - mae: 16.7235\n",
            "Epoch 136/500\n",
            "30/30 [==============================] - 4s 132ms/step - loss: 16.0580 - mae: 16.5468\n",
            "Epoch 137/500\n",
            "30/30 [==============================] - 4s 132ms/step - loss: 16.1759 - mae: 16.6645\n",
            "Epoch 138/500\n",
            "30/30 [==============================] - 4s 131ms/step - loss: 16.0890 - mae: 16.5776\n",
            "Epoch 139/500\n",
            "30/30 [==============================] - 4s 131ms/step - loss: 16.0637 - mae: 16.5523\n",
            "Epoch 140/500\n",
            "30/30 [==============================] - 4s 132ms/step - loss: 16.0254 - mae: 16.5140\n",
            "Epoch 141/500\n",
            "30/30 [==============================] - 4s 132ms/step - loss: 16.0244 - mae: 16.5132\n",
            "Epoch 142/500\n",
            "30/30 [==============================] - 4s 132ms/step - loss: 16.1536 - mae: 16.6422\n",
            "Epoch 143/500\n",
            "30/30 [==============================] - 4s 130ms/step - loss: 16.6045 - mae: 17.0938\n",
            "Epoch 144/500\n",
            "30/30 [==============================] - 4s 145ms/step - loss: 16.1254 - mae: 16.6142\n",
            "Epoch 145/500\n",
            "30/30 [==============================] - 4s 131ms/step - loss: 16.0522 - mae: 16.5405\n",
            "Epoch 146/500\n",
            "30/30 [==============================] - 4s 131ms/step - loss: 16.0484 - mae: 16.5371\n",
            "Epoch 147/500\n",
            "30/30 [==============================] - 4s 133ms/step - loss: 15.9993 - mae: 16.4878\n",
            "Epoch 148/500\n",
            "30/30 [==============================] - 4s 131ms/step - loss: 15.9903 - mae: 16.4789\n",
            "Epoch 149/500\n",
            "30/30 [==============================] - 4s 132ms/step - loss: 16.0904 - mae: 16.5791\n",
            "Epoch 150/500\n",
            "30/30 [==============================] - 4s 134ms/step - loss: 15.9876 - mae: 16.4760\n",
            "Epoch 151/500\n",
            "30/30 [==============================] - 4s 133ms/step - loss: 16.1884 - mae: 16.6772\n",
            "Epoch 152/500\n",
            "30/30 [==============================] - 4s 130ms/step - loss: 16.0646 - mae: 16.5533\n",
            "Epoch 153/500\n",
            "30/30 [==============================] - 4s 132ms/step - loss: 16.0445 - mae: 16.5332\n",
            "Epoch 154/500\n",
            "30/30 [==============================] - 4s 134ms/step - loss: 16.0550 - mae: 16.5436\n",
            "Epoch 155/500\n",
            "30/30 [==============================] - 4s 132ms/step - loss: 15.9509 - mae: 16.4392\n",
            "Epoch 156/500\n",
            "30/30 [==============================] - 4s 131ms/step - loss: 15.9860 - mae: 16.4744\n",
            "Epoch 157/500\n",
            "30/30 [==============================] - 4s 132ms/step - loss: 15.9868 - mae: 16.4753\n",
            "Epoch 158/500\n",
            "30/30 [==============================] - 4s 135ms/step - loss: 16.0244 - mae: 16.5127\n",
            "Epoch 159/500\n",
            "30/30 [==============================] - 4s 132ms/step - loss: 16.1855 - mae: 16.6741\n",
            "Epoch 160/500\n",
            "30/30 [==============================] - 4s 135ms/step - loss: 16.2126 - mae: 16.7014\n",
            "Epoch 161/500\n",
            "30/30 [==============================] - 4s 133ms/step - loss: 15.9662 - mae: 16.4544\n",
            "Epoch 162/500\n",
            "30/30 [==============================] - 4s 132ms/step - loss: 16.0183 - mae: 16.5070\n",
            "Epoch 163/500\n",
            "30/30 [==============================] - 4s 132ms/step - loss: 16.0506 - mae: 16.5394\n",
            "Epoch 164/500\n",
            "30/30 [==============================] - 4s 134ms/step - loss: 15.9408 - mae: 16.4291\n",
            "Epoch 165/500\n",
            "30/30 [==============================] - 4s 133ms/step - loss: 15.9073 - mae: 16.3959\n",
            "Epoch 166/500\n",
            "30/30 [==============================] - 4s 133ms/step - loss: 15.8833 - mae: 16.3716\n",
            "Epoch 167/500\n",
            "30/30 [==============================] - 4s 138ms/step - loss: 15.9626 - mae: 16.4514\n",
            "Epoch 168/500\n",
            "30/30 [==============================] - 4s 136ms/step - loss: 16.0136 - mae: 16.5023\n",
            "Epoch 169/500\n",
            "30/30 [==============================] - 4s 133ms/step - loss: 15.8807 - mae: 16.3690\n",
            "Epoch 170/500\n",
            "30/30 [==============================] - 4s 135ms/step - loss: 15.8869 - mae: 16.3751\n",
            "Epoch 171/500\n",
            "30/30 [==============================] - 4s 135ms/step - loss: 15.8762 - mae: 16.3645\n",
            "Epoch 172/500\n",
            "30/30 [==============================] - 4s 133ms/step - loss: 15.8664 - mae: 16.3548\n",
            "Epoch 173/500\n",
            "30/30 [==============================] - 4s 134ms/step - loss: 15.8585 - mae: 16.3469\n",
            "Epoch 174/500\n",
            "30/30 [==============================] - 4s 133ms/step - loss: 16.0738 - mae: 16.5622\n",
            "Epoch 175/500\n",
            "30/30 [==============================] - 4s 135ms/step - loss: 15.9614 - mae: 16.4499\n",
            "Epoch 176/500\n",
            "30/30 [==============================] - 4s 134ms/step - loss: 15.8803 - mae: 16.3687\n",
            "Epoch 177/500\n",
            "30/30 [==============================] - 4s 133ms/step - loss: 15.8970 - mae: 16.3856\n",
            "Epoch 178/500\n",
            "30/30 [==============================] - 4s 132ms/step - loss: 15.9026 - mae: 16.3910\n",
            "Epoch 179/500\n",
            "30/30 [==============================] - 4s 131ms/step - loss: 15.8884 - mae: 16.3767\n",
            "Epoch 180/500\n",
            "30/30 [==============================] - 4s 134ms/step - loss: 15.9277 - mae: 16.4161\n",
            "Epoch 181/500\n",
            "30/30 [==============================] - 4s 135ms/step - loss: 15.9755 - mae: 16.4640\n",
            "Epoch 182/500\n",
            "30/30 [==============================] - 4s 136ms/step - loss: 16.1548 - mae: 16.6438\n",
            "Epoch 183/500\n",
            "30/30 [==============================] - 4s 135ms/step - loss: 15.8647 - mae: 16.3530\n",
            "Epoch 184/500\n",
            "30/30 [==============================] - 4s 132ms/step - loss: 15.8341 - mae: 16.3225\n",
            "Epoch 185/500\n",
            "30/30 [==============================] - 4s 132ms/step - loss: 16.2120 - mae: 16.7011\n",
            "Epoch 186/500\n",
            "30/30 [==============================] - 4s 133ms/step - loss: 15.7969 - mae: 16.2854\n",
            "Epoch 187/500\n",
            "30/30 [==============================] - 4s 134ms/step - loss: 15.9724 - mae: 16.4610\n",
            "Epoch 188/500\n",
            "30/30 [==============================] - 4s 133ms/step - loss: 15.9574 - mae: 16.4458\n",
            "Epoch 189/500\n",
            "30/30 [==============================] - 4s 134ms/step - loss: 15.7725 - mae: 16.2607\n",
            "Epoch 190/500\n",
            "30/30 [==============================] - 4s 132ms/step - loss: 15.8035 - mae: 16.2915\n",
            "Epoch 191/500\n",
            "30/30 [==============================] - 4s 132ms/step - loss: 15.8077 - mae: 16.2958\n",
            "Epoch 192/500\n",
            "30/30 [==============================] - 4s 132ms/step - loss: 15.9401 - mae: 16.4283\n",
            "Epoch 193/500\n",
            "30/30 [==============================] - 4s 135ms/step - loss: 15.7683 - mae: 16.2563\n",
            "Epoch 194/500\n",
            "30/30 [==============================] - 4s 133ms/step - loss: 15.7664 - mae: 16.2544\n",
            "Epoch 195/500\n",
            "30/30 [==============================] - 4s 133ms/step - loss: 15.7771 - mae: 16.2651\n",
            "Epoch 196/500\n",
            "30/30 [==============================] - 4s 133ms/step - loss: 15.9309 - mae: 16.4193\n",
            "Epoch 197/500\n",
            "30/30 [==============================] - 4s 134ms/step - loss: 15.7424 - mae: 16.2305\n",
            "Epoch 198/500\n",
            "30/30 [==============================] - 4s 135ms/step - loss: 15.8618 - mae: 16.3503\n",
            "Epoch 199/500\n",
            "30/30 [==============================] - 4s 135ms/step - loss: 15.9143 - mae: 16.4024\n",
            "Epoch 200/500\n",
            "30/30 [==============================] - 4s 134ms/step - loss: 15.7195 - mae: 16.2076\n",
            "Epoch 201/500\n",
            "30/30 [==============================] - 4s 134ms/step - loss: 15.9014 - mae: 16.3896\n",
            "Epoch 202/500\n",
            "30/30 [==============================] - 4s 134ms/step - loss: 16.0342 - mae: 16.5228\n",
            "Epoch 203/500\n",
            "30/30 [==============================] - 4s 133ms/step - loss: 15.8218 - mae: 16.3099\n",
            "Epoch 204/500\n",
            "30/30 [==============================] - 4s 134ms/step - loss: 15.8273 - mae: 16.3158\n",
            "Epoch 205/500\n",
            "30/30 [==============================] - 4s 136ms/step - loss: 15.9707 - mae: 16.4591\n",
            "Epoch 206/500\n",
            "30/30 [==============================] - 4s 133ms/step - loss: 15.7455 - mae: 16.2338\n",
            "Epoch 207/500\n",
            "30/30 [==============================] - 4s 135ms/step - loss: 15.7433 - mae: 16.2313\n",
            "Epoch 208/500\n",
            "30/30 [==============================] - 4s 133ms/step - loss: 15.7084 - mae: 16.1961\n",
            "Epoch 209/500\n",
            "30/30 [==============================] - 4s 134ms/step - loss: 15.7196 - mae: 16.2074\n",
            "Epoch 210/500\n",
            "30/30 [==============================] - 4s 134ms/step - loss: 16.0095 - mae: 16.4979\n",
            "Epoch 211/500\n",
            "30/30 [==============================] - 5s 147ms/step - loss: 15.9306 - mae: 16.4191\n",
            "Epoch 212/500\n",
            "30/30 [==============================] - 4s 133ms/step - loss: 15.7374 - mae: 16.2256\n",
            "Epoch 213/500\n",
            "30/30 [==============================] - 4s 135ms/step - loss: 15.8468 - mae: 16.3348\n",
            "Epoch 214/500\n",
            "30/30 [==============================] - 4s 133ms/step - loss: 15.6737 - mae: 16.1618\n",
            "Epoch 215/500\n",
            "30/30 [==============================] - 4s 133ms/step - loss: 15.6580 - mae: 16.1458\n",
            "Epoch 216/500\n",
            "30/30 [==============================] - 4s 135ms/step - loss: 15.8894 - mae: 16.3779\n",
            "Epoch 217/500\n",
            "30/30 [==============================] - 4s 134ms/step - loss: 15.8160 - mae: 16.3040\n",
            "Epoch 218/500\n",
            "30/30 [==============================] - 4s 137ms/step - loss: 15.7870 - mae: 16.2756\n",
            "Epoch 219/500\n",
            "30/30 [==============================] - 4s 134ms/step - loss: 15.6817 - mae: 16.1696\n",
            "Epoch 220/500\n",
            "30/30 [==============================] - 4s 135ms/step - loss: 15.6933 - mae: 16.1814\n",
            "Epoch 221/500\n",
            "30/30 [==============================] - 4s 134ms/step - loss: 15.6767 - mae: 16.1645\n",
            "Epoch 222/500\n",
            "30/30 [==============================] - 4s 135ms/step - loss: 15.6630 - mae: 16.1512\n",
            "Epoch 223/500\n",
            "30/30 [==============================] - 4s 135ms/step - loss: 15.8235 - mae: 16.3120\n",
            "Epoch 224/500\n",
            "30/30 [==============================] - 4s 132ms/step - loss: 15.7388 - mae: 16.2272\n",
            "Epoch 225/500\n",
            "30/30 [==============================] - 4s 133ms/step - loss: 15.6447 - mae: 16.1324\n",
            "Epoch 226/500\n",
            "30/30 [==============================] - 4s 134ms/step - loss: 15.6667 - mae: 16.1548\n",
            "Epoch 227/500\n",
            "30/30 [==============================] - 4s 134ms/step - loss: 15.6246 - mae: 16.1124\n",
            "Epoch 228/500\n",
            "30/30 [==============================] - 4s 133ms/step - loss: 15.6593 - mae: 16.1475\n",
            "Epoch 229/500\n",
            "30/30 [==============================] - 4s 137ms/step - loss: 15.6824 - mae: 16.1703\n",
            "Epoch 230/500\n",
            "30/30 [==============================] - 4s 133ms/step - loss: 15.5987 - mae: 16.0868\n",
            "Epoch 231/500\n",
            "30/30 [==============================] - 4s 134ms/step - loss: 15.5933 - mae: 16.0814\n",
            "Epoch 232/500\n",
            "30/30 [==============================] - 4s 133ms/step - loss: 15.5475 - mae: 16.0351\n",
            "Epoch 233/500\n",
            "30/30 [==============================] - 4s 135ms/step - loss: 15.5628 - mae: 16.0505\n",
            "Epoch 234/500\n",
            "30/30 [==============================] - 4s 133ms/step - loss: 15.7211 - mae: 16.2090\n",
            "Epoch 235/500\n",
            "30/30 [==============================] - 4s 135ms/step - loss: 15.5892 - mae: 16.0772\n",
            "Epoch 236/500\n",
            "30/30 [==============================] - 4s 135ms/step - loss: 15.5934 - mae: 16.0811\n",
            "Epoch 237/500\n",
            "30/30 [==============================] - 4s 135ms/step - loss: 15.5643 - mae: 16.0520\n",
            "Epoch 238/500\n",
            "30/30 [==============================] - 4s 138ms/step - loss: 15.7324 - mae: 16.2206\n",
            "Epoch 239/500\n",
            "30/30 [==============================] - 4s 135ms/step - loss: 16.0212 - mae: 16.5097\n",
            "Epoch 240/500\n",
            "30/30 [==============================] - 4s 133ms/step - loss: 15.8845 - mae: 16.3733\n",
            "Epoch 241/500\n",
            "30/30 [==============================] - 4s 132ms/step - loss: 15.5703 - mae: 16.0581\n",
            "Epoch 242/500\n",
            "30/30 [==============================] - 4s 134ms/step - loss: 15.6475 - mae: 16.1359\n",
            "Epoch 243/500\n",
            "30/30 [==============================] - 4s 134ms/step - loss: 15.6836 - mae: 16.1716\n",
            "Epoch 244/500\n",
            "30/30 [==============================] - 4s 135ms/step - loss: 15.5230 - mae: 16.0107\n",
            "Epoch 245/500\n",
            "30/30 [==============================] - 4s 137ms/step - loss: 15.6700 - mae: 16.1582\n",
            "Epoch 246/500\n",
            "30/30 [==============================] - 4s 138ms/step - loss: 15.5074 - mae: 15.9949\n",
            "Epoch 247/500\n",
            "30/30 [==============================] - 4s 137ms/step - loss: 15.5132 - mae: 16.0008\n",
            "Epoch 248/500\n",
            "30/30 [==============================] - 4s 137ms/step - loss: 15.6285 - mae: 16.1162\n",
            "Epoch 249/500\n",
            "30/30 [==============================] - 4s 138ms/step - loss: 16.0034 - mae: 16.4922\n",
            "Epoch 250/500\n",
            "30/30 [==============================] - 4s 135ms/step - loss: 15.6272 - mae: 16.1151\n",
            "Epoch 251/500\n",
            "30/30 [==============================] - 4s 136ms/step - loss: 15.5841 - mae: 16.0716\n",
            "Epoch 252/500\n",
            "30/30 [==============================] - 4s 136ms/step - loss: 15.5613 - mae: 16.0490\n",
            "Epoch 253/500\n",
            "30/30 [==============================] - 4s 136ms/step - loss: 15.4683 - mae: 15.9554\n",
            "Epoch 254/500\n",
            "30/30 [==============================] - 4s 137ms/step - loss: 15.5197 - mae: 16.0072\n",
            "Epoch 255/500\n",
            "30/30 [==============================] - 4s 137ms/step - loss: 15.6082 - mae: 16.0958\n",
            "Epoch 256/500\n",
            "30/30 [==============================] - 4s 137ms/step - loss: 15.4973 - mae: 15.9850\n",
            "Epoch 257/500\n",
            "30/30 [==============================] - 4s 135ms/step - loss: 15.4203 - mae: 15.9075\n",
            "Epoch 258/500\n",
            "30/30 [==============================] - 4s 136ms/step - loss: 15.4262 - mae: 15.9132\n",
            "Epoch 259/500\n",
            "30/30 [==============================] - 4s 132ms/step - loss: 15.4631 - mae: 15.9503\n",
            "Epoch 260/500\n",
            "30/30 [==============================] - 4s 139ms/step - loss: 15.5173 - mae: 16.0049\n",
            "Epoch 261/500\n",
            "30/30 [==============================] - 4s 134ms/step - loss: 15.6511 - mae: 16.1389\n",
            "Epoch 262/500\n",
            "30/30 [==============================] - 4s 134ms/step - loss: 15.4645 - mae: 15.9520\n",
            "Epoch 263/500\n",
            "30/30 [==============================] - 4s 133ms/step - loss: 15.4325 - mae: 15.9197\n",
            "Epoch 264/500\n",
            "30/30 [==============================] - 4s 134ms/step - loss: 15.4346 - mae: 15.9217\n",
            "Epoch 265/500\n",
            "30/30 [==============================] - 4s 137ms/step - loss: 15.4267 - mae: 15.9143\n",
            "Epoch 266/500\n",
            "30/30 [==============================] - 4s 134ms/step - loss: 15.4117 - mae: 15.8986\n",
            "Epoch 267/500\n",
            "30/30 [==============================] - 4s 134ms/step - loss: 15.4554 - mae: 15.9429\n",
            "Epoch 268/500\n",
            "30/30 [==============================] - 4s 135ms/step - loss: 15.5974 - mae: 16.0850\n",
            "Epoch 269/500\n",
            "30/30 [==============================] - 4s 135ms/step - loss: 15.5133 - mae: 16.0009\n",
            "Epoch 270/500\n",
            "30/30 [==============================] - 4s 133ms/step - loss: 15.4535 - mae: 15.9411\n",
            "Epoch 271/500\n",
            "30/30 [==============================] - 4s 137ms/step - loss: 15.4208 - mae: 15.9080\n",
            "Epoch 272/500\n",
            "30/30 [==============================] - 4s 134ms/step - loss: 15.4132 - mae: 15.9002\n",
            "Epoch 273/500\n",
            "30/30 [==============================] - 4s 135ms/step - loss: 15.3995 - mae: 15.8868\n",
            "Epoch 274/500\n",
            "30/30 [==============================] - 4s 137ms/step - loss: 15.4762 - mae: 15.9637\n",
            "Epoch 275/500\n",
            "30/30 [==============================] - 4s 134ms/step - loss: 15.3665 - mae: 15.8538\n",
            "Epoch 276/500\n",
            "30/30 [==============================] - 5s 147ms/step - loss: 15.3459 - mae: 15.8327\n",
            "Epoch 277/500\n",
            "30/30 [==============================] - 4s 136ms/step - loss: 15.4917 - mae: 15.9793\n",
            "Epoch 278/500\n",
            "30/30 [==============================] - 4s 135ms/step - loss: 15.4699 - mae: 15.9567\n",
            "Epoch 279/500\n",
            "30/30 [==============================] - 4s 136ms/step - loss: 15.4437 - mae: 15.9309\n",
            "Epoch 280/500\n",
            "30/30 [==============================] - 4s 134ms/step - loss: 16.1783 - mae: 16.6670\n",
            "Epoch 281/500\n",
            "30/30 [==============================] - 4s 136ms/step - loss: 15.7034 - mae: 16.1911\n",
            "Epoch 282/500\n",
            "30/30 [==============================] - 4s 134ms/step - loss: 15.4328 - mae: 15.9203\n",
            "Epoch 283/500\n",
            "30/30 [==============================] - 4s 136ms/step - loss: 15.4889 - mae: 15.9763\n",
            "Epoch 284/500\n",
            "30/30 [==============================] - 4s 135ms/step - loss: 15.4761 - mae: 15.9634\n",
            "Epoch 285/500\n",
            "30/30 [==============================] - 4s 137ms/step - loss: 15.3359 - mae: 15.8230\n",
            "Epoch 286/500\n",
            "30/30 [==============================] - 4s 137ms/step - loss: 15.3796 - mae: 15.8668\n",
            "Epoch 287/500\n",
            "30/30 [==============================] - 4s 138ms/step - loss: 15.3374 - mae: 15.8244\n",
            "Epoch 288/500\n",
            "30/30 [==============================] - 4s 135ms/step - loss: 15.3754 - mae: 15.8626\n",
            "Epoch 289/500\n",
            "30/30 [==============================] - 4s 135ms/step - loss: 15.3477 - mae: 15.8349\n",
            "Epoch 290/500\n",
            "30/30 [==============================] - 4s 137ms/step - loss: 15.2979 - mae: 15.7844\n",
            "Epoch 291/500\n",
            "30/30 [==============================] - 4s 137ms/step - loss: 15.3108 - mae: 15.7977\n",
            "Epoch 292/500\n",
            "30/30 [==============================] - 4s 137ms/step - loss: 15.3507 - mae: 15.8380\n",
            "Epoch 293/500\n",
            "30/30 [==============================] - 4s 138ms/step - loss: 15.3561 - mae: 15.8435\n",
            "Epoch 294/500\n",
            "30/30 [==============================] - 4s 138ms/step - loss: 15.2788 - mae: 15.7653\n",
            "Epoch 295/500\n",
            "30/30 [==============================] - 4s 139ms/step - loss: 15.3434 - mae: 15.8303\n",
            "Epoch 296/500\n",
            "30/30 [==============================] - 4s 137ms/step - loss: 15.2953 - mae: 15.7821\n",
            "Epoch 297/500\n",
            "30/30 [==============================] - 4s 138ms/step - loss: 15.3597 - mae: 15.8469\n",
            "Epoch 298/500\n",
            "30/30 [==============================] - 4s 135ms/step - loss: 15.4155 - mae: 15.9030\n",
            "Epoch 299/500\n",
            "30/30 [==============================] - 4s 138ms/step - loss: 15.3953 - mae: 15.8824\n",
            "Epoch 300/500\n",
            "30/30 [==============================] - 4s 139ms/step - loss: 15.2661 - mae: 15.7528\n",
            "Epoch 301/500\n",
            "30/30 [==============================] - 4s 136ms/step - loss: 15.2688 - mae: 15.7554\n",
            "Epoch 302/500\n",
            "30/30 [==============================] - 4s 136ms/step - loss: 15.3777 - mae: 15.8650\n",
            "Epoch 303/500\n",
            "30/30 [==============================] - 4s 139ms/step - loss: 15.2787 - mae: 15.7655\n",
            "Epoch 304/500\n",
            "30/30 [==============================] - 4s 142ms/step - loss: 15.3323 - mae: 15.8191\n",
            "Epoch 305/500\n",
            "30/30 [==============================] - 4s 140ms/step - loss: 15.1984 - mae: 15.6850\n",
            "Epoch 306/500\n",
            "30/30 [==============================] - 4s 143ms/step - loss: 15.2516 - mae: 15.7386\n",
            "Epoch 307/500\n",
            "30/30 [==============================] - 4s 141ms/step - loss: 15.3331 - mae: 15.8201\n",
            "Epoch 308/500\n",
            "30/30 [==============================] - 4s 136ms/step - loss: 15.2953 - mae: 15.7821\n",
            "Epoch 309/500\n",
            "30/30 [==============================] - 4s 137ms/step - loss: 15.2946 - mae: 15.7812\n",
            "Epoch 310/500\n",
            "30/30 [==============================] - 4s 143ms/step - loss: 15.2523 - mae: 15.7388\n",
            "Epoch 311/500\n",
            "30/30 [==============================] - 4s 137ms/step - loss: 15.2593 - mae: 15.7461\n",
            "Epoch 312/500\n",
            "30/30 [==============================] - 4s 136ms/step - loss: 15.2909 - mae: 15.7776\n",
            "Epoch 313/500\n",
            "30/30 [==============================] - 4s 140ms/step - loss: 15.1840 - mae: 15.6709\n",
            "Epoch 314/500\n",
            "30/30 [==============================] - 4s 138ms/step - loss: 15.2038 - mae: 15.6902\n",
            "Epoch 315/500\n",
            "30/30 [==============================] - 4s 139ms/step - loss: 15.2468 - mae: 15.7337\n",
            "Epoch 316/500\n",
            "30/30 [==============================] - 4s 139ms/step - loss: 15.2964 - mae: 15.7828\n",
            "Epoch 317/500\n",
            "30/30 [==============================] - 4s 139ms/step - loss: 15.2667 - mae: 15.7537\n",
            "Epoch 318/500\n",
            "30/30 [==============================] - 4s 138ms/step - loss: 15.2877 - mae: 15.7748\n",
            "Epoch 319/500\n",
            "30/30 [==============================] - 4s 137ms/step - loss: 15.5776 - mae: 16.0651\n",
            "Epoch 320/500\n",
            "30/30 [==============================] - 4s 136ms/step - loss: 15.2021 - mae: 15.6888\n",
            "Epoch 321/500\n",
            "30/30 [==============================] - 4s 138ms/step - loss: 15.1965 - mae: 15.6831\n",
            "Epoch 322/500\n",
            "30/30 [==============================] - 4s 139ms/step - loss: 15.3203 - mae: 15.8075\n",
            "Epoch 323/500\n",
            "30/30 [==============================] - 4s 137ms/step - loss: 15.2613 - mae: 15.7478\n",
            "Epoch 324/500\n",
            "30/30 [==============================] - 4s 139ms/step - loss: 15.2482 - mae: 15.7347\n",
            "Epoch 325/500\n",
            "30/30 [==============================] - 4s 140ms/step - loss: 15.3263 - mae: 15.8134\n",
            "Epoch 326/500\n",
            "30/30 [==============================] - 4s 139ms/step - loss: 15.1846 - mae: 15.6711\n",
            "Epoch 327/500\n",
            "30/30 [==============================] - 4s 137ms/step - loss: 15.1173 - mae: 15.6033\n",
            "Epoch 328/500\n",
            "30/30 [==============================] - 4s 139ms/step - loss: 15.1549 - mae: 15.6413\n",
            "Epoch 329/500\n",
            "30/30 [==============================] - 4s 141ms/step - loss: 15.1485 - mae: 15.6346\n",
            "Epoch 330/500\n",
            "30/30 [==============================] - 5s 145ms/step - loss: 15.1389 - mae: 15.6250\n",
            "Epoch 331/500\n",
            "30/30 [==============================] - 4s 142ms/step - loss: 15.1159 - mae: 15.6025\n",
            "Epoch 332/500\n",
            "30/30 [==============================] - 4s 144ms/step - loss: 15.1249 - mae: 15.6111\n",
            "Epoch 333/500\n",
            "30/30 [==============================] - 4s 142ms/step - loss: 15.1952 - mae: 15.6818\n",
            "Epoch 334/500\n",
            "30/30 [==============================] - 4s 143ms/step - loss: 15.0528 - mae: 15.5387\n",
            "Epoch 335/500\n",
            "30/30 [==============================] - 5s 147ms/step - loss: 15.1014 - mae: 15.5877\n",
            "Epoch 336/500\n",
            "30/30 [==============================] - 4s 140ms/step - loss: 15.1079 - mae: 15.5943\n",
            "Epoch 337/500\n",
            "30/30 [==============================] - 4s 143ms/step - loss: 15.1351 - mae: 15.6219\n",
            "Epoch 338/500\n",
            "30/30 [==============================] - 5s 149ms/step - loss: 15.2337 - mae: 15.7202\n",
            "Epoch 339/500\n",
            "30/30 [==============================] - 4s 142ms/step - loss: 15.1496 - mae: 15.6366\n",
            "Epoch 340/500\n",
            "30/30 [==============================] - 5s 154ms/step - loss: 15.0466 - mae: 15.5329\n",
            "Epoch 341/500\n",
            "30/30 [==============================] - 4s 139ms/step - loss: 15.1962 - mae: 15.6832\n",
            "Epoch 342/500\n",
            "30/30 [==============================] - 4s 136ms/step - loss: 15.0742 - mae: 15.5607\n",
            "Epoch 343/500\n",
            "30/30 [==============================] - 4s 136ms/step - loss: 15.0986 - mae: 15.5851\n",
            "Epoch 344/500\n",
            "30/30 [==============================] - 4s 136ms/step - loss: 15.3654 - mae: 15.8523\n",
            "Epoch 345/500\n",
            "30/30 [==============================] - 4s 136ms/step - loss: 15.2416 - mae: 15.7288\n",
            "Epoch 346/500\n",
            "30/30 [==============================] - 4s 137ms/step - loss: 15.1219 - mae: 15.6083\n",
            "Epoch 347/500\n",
            "30/30 [==============================] - 4s 134ms/step - loss: 15.1907 - mae: 15.6771\n",
            "Epoch 348/500\n",
            "30/30 [==============================] - 4s 138ms/step - loss: 15.3381 - mae: 15.8256\n",
            "Epoch 349/500\n",
            "30/30 [==============================] - 4s 135ms/step - loss: 15.0753 - mae: 15.5615\n",
            "Epoch 350/500\n",
            "30/30 [==============================] - 4s 136ms/step - loss: 15.0898 - mae: 15.5764\n",
            "Epoch 351/500\n",
            "30/30 [==============================] - 4s 137ms/step - loss: 15.2785 - mae: 15.7655\n",
            "Epoch 352/500\n",
            "30/30 [==============================] - 4s 135ms/step - loss: 15.4615 - mae: 15.9490\n",
            "Epoch 353/500\n",
            "30/30 [==============================] - 4s 134ms/step - loss: 15.2131 - mae: 15.6999\n",
            "Epoch 354/500\n",
            "30/30 [==============================] - 4s 135ms/step - loss: 15.0758 - mae: 15.5623\n",
            "Epoch 355/500\n",
            "30/30 [==============================] - 4s 135ms/step - loss: 15.1755 - mae: 15.6624\n",
            "Epoch 356/500\n",
            "30/30 [==============================] - 4s 135ms/step - loss: 15.3596 - mae: 15.8467\n",
            "Epoch 357/500\n",
            "30/30 [==============================] - 4s 136ms/step - loss: 15.0621 - mae: 15.5482\n",
            "Epoch 358/500\n",
            "30/30 [==============================] - 4s 135ms/step - loss: 15.0955 - mae: 15.5823\n",
            "Epoch 359/500\n",
            "30/30 [==============================] - 4s 135ms/step - loss: 14.9973 - mae: 15.4832\n",
            "Epoch 360/500\n",
            "30/30 [==============================] - 4s 136ms/step - loss: 15.0889 - mae: 15.5755\n",
            "Epoch 361/500\n",
            "30/30 [==============================] - 4s 137ms/step - loss: 15.0982 - mae: 15.5846\n",
            "Epoch 362/500\n",
            "30/30 [==============================] - 4s 135ms/step - loss: 15.2103 - mae: 15.6970\n",
            "Epoch 363/500\n",
            "30/30 [==============================] - 4s 135ms/step - loss: 15.3159 - mae: 15.8032\n",
            "Epoch 364/500\n",
            "30/30 [==============================] - 4s 136ms/step - loss: 15.0321 - mae: 15.5183\n",
            "Epoch 365/500\n",
            "30/30 [==============================] - 4s 132ms/step - loss: 14.9774 - mae: 15.4632\n",
            "Epoch 366/500\n",
            "30/30 [==============================] - 4s 134ms/step - loss: 15.1794 - mae: 15.6661\n",
            "Epoch 367/500\n",
            "30/30 [==============================] - 4s 135ms/step - loss: 15.1673 - mae: 15.6542\n",
            "Epoch 368/500\n",
            "30/30 [==============================] - 4s 134ms/step - loss: 15.0389 - mae: 15.5250\n",
            "Epoch 369/500\n",
            "30/30 [==============================] - 4s 133ms/step - loss: 15.0709 - mae: 15.5574\n",
            "Epoch 370/500\n",
            "30/30 [==============================] - 4s 134ms/step - loss: 15.2497 - mae: 15.7366\n",
            "Epoch 371/500\n",
            "30/30 [==============================] - 4s 133ms/step - loss: 15.1048 - mae: 15.5914\n",
            "Epoch 372/500\n",
            "30/30 [==============================] - 4s 134ms/step - loss: 15.0443 - mae: 15.5309\n",
            "Epoch 373/500\n",
            "30/30 [==============================] - 4s 137ms/step - loss: 15.1186 - mae: 15.6052\n",
            "Epoch 374/500\n",
            "30/30 [==============================] - 4s 140ms/step - loss: 15.0995 - mae: 15.5861\n",
            "Epoch 375/500\n",
            "30/30 [==============================] - 4s 139ms/step - loss: 14.9368 - mae: 15.4228\n",
            "Epoch 376/500\n",
            "30/30 [==============================] - 4s 135ms/step - loss: 14.9969 - mae: 15.4832\n",
            "Epoch 377/500\n",
            "30/30 [==============================] - 4s 137ms/step - loss: 15.1241 - mae: 15.6103\n",
            "Epoch 378/500\n",
            "30/30 [==============================] - 4s 136ms/step - loss: 15.1092 - mae: 15.5961\n",
            "Epoch 379/500\n",
            "30/30 [==============================] - 4s 137ms/step - loss: 15.1196 - mae: 15.6063\n",
            "Epoch 380/500\n",
            "30/30 [==============================] - 4s 136ms/step - loss: 14.9440 - mae: 15.4300\n",
            "Epoch 381/500\n",
            "30/30 [==============================] - 4s 135ms/step - loss: 14.9364 - mae: 15.4222\n",
            "Epoch 382/500\n",
            "30/30 [==============================] - 4s 135ms/step - loss: 15.0339 - mae: 15.5205\n",
            "Epoch 383/500\n",
            "30/30 [==============================] - 4s 137ms/step - loss: 14.8766 - mae: 15.3624\n",
            "Epoch 384/500\n",
            "30/30 [==============================] - 4s 136ms/step - loss: 14.9099 - mae: 15.3956\n",
            "Epoch 385/500\n",
            "30/30 [==============================] - 4s 138ms/step - loss: 15.1228 - mae: 15.6091\n",
            "Epoch 386/500\n",
            "30/30 [==============================] - 4s 138ms/step - loss: 15.0181 - mae: 15.5045\n",
            "Epoch 387/500\n",
            "30/30 [==============================] - 4s 134ms/step - loss: 14.9224 - mae: 15.4081\n",
            "Epoch 388/500\n",
            "30/30 [==============================] - 4s 134ms/step - loss: 15.0179 - mae: 15.5047\n",
            "Epoch 389/500\n",
            "30/30 [==============================] - 4s 136ms/step - loss: 15.0424 - mae: 15.5287\n",
            "Epoch 390/500\n",
            "30/30 [==============================] - 4s 136ms/step - loss: 15.0010 - mae: 15.4870\n",
            "Epoch 391/500\n",
            "30/30 [==============================] - 4s 135ms/step - loss: 14.9635 - mae: 15.4494\n",
            "Epoch 392/500\n",
            "30/30 [==============================] - 4s 136ms/step - loss: 14.9021 - mae: 15.3879\n",
            "Epoch 393/500\n",
            "30/30 [==============================] - 4s 135ms/step - loss: 15.3513 - mae: 15.8386\n",
            "Epoch 394/500\n",
            "30/30 [==============================] - 4s 135ms/step - loss: 14.9323 - mae: 15.4182\n",
            "Epoch 395/500\n",
            "30/30 [==============================] - 4s 138ms/step - loss: 14.9090 - mae: 15.3945\n",
            "Epoch 396/500\n",
            "30/30 [==============================] - 4s 137ms/step - loss: 14.9817 - mae: 15.4680\n",
            "Epoch 397/500\n",
            "30/30 [==============================] - 4s 139ms/step - loss: 15.0074 - mae: 15.4934\n",
            "Epoch 398/500\n",
            "30/30 [==============================] - 4s 137ms/step - loss: 14.9346 - mae: 15.4204\n",
            "Epoch 399/500\n",
            "30/30 [==============================] - 4s 138ms/step - loss: 14.8740 - mae: 15.3597\n",
            "Epoch 400/500\n",
            "30/30 [==============================] - 4s 136ms/step - loss: 15.1505 - mae: 15.6372\n",
            "Epoch 401/500\n",
            "30/30 [==============================] - 4s 137ms/step - loss: 15.7498 - mae: 16.2374\n",
            "Epoch 402/500\n",
            "30/30 [==============================] - 4s 141ms/step - loss: 15.8329 - mae: 16.3210\n",
            "Epoch 403/500\n",
            "30/30 [==============================] - 4s 134ms/step - loss: 14.8894 - mae: 15.3756\n",
            "Epoch 404/500\n",
            "30/30 [==============================] - 4s 142ms/step - loss: 15.4056 - mae: 15.8935\n",
            "Epoch 405/500\n",
            "30/30 [==============================] - 5s 143ms/step - loss: 14.8554 - mae: 15.3410\n",
            "Epoch 406/500\n",
            "30/30 [==============================] - 4s 135ms/step - loss: 14.8029 - mae: 15.2885\n",
            "Epoch 407/500\n",
            "30/30 [==============================] - 4s 135ms/step - loss: 14.8762 - mae: 15.3616\n",
            "Epoch 408/500\n",
            "30/30 [==============================] - 4s 139ms/step - loss: 14.8434 - mae: 15.3289\n",
            "Epoch 409/500\n",
            "30/30 [==============================] - 4s 136ms/step - loss: 14.8132 - mae: 15.2986\n",
            "Epoch 410/500\n",
            "30/30 [==============================] - 4s 136ms/step - loss: 15.0074 - mae: 15.4938\n",
            "Epoch 411/500\n",
            "30/30 [==============================] - 4s 136ms/step - loss: 15.1845 - mae: 15.6713\n",
            "Epoch 412/500\n",
            "30/30 [==============================] - 4s 134ms/step - loss: 14.8277 - mae: 15.3133\n",
            "Epoch 413/500\n",
            "30/30 [==============================] - 4s 135ms/step - loss: 14.8994 - mae: 15.3853\n",
            "Epoch 414/500\n",
            "30/30 [==============================] - 4s 136ms/step - loss: 14.8640 - mae: 15.3495\n",
            "Epoch 415/500\n",
            "30/30 [==============================] - 4s 136ms/step - loss: 14.8357 - mae: 15.3217\n",
            "Epoch 416/500\n",
            "30/30 [==============================] - 4s 135ms/step - loss: 15.2623 - mae: 15.7490\n",
            "Epoch 417/500\n",
            "30/30 [==============================] - 4s 138ms/step - loss: 15.5148 - mae: 16.0027\n",
            "Epoch 418/500\n",
            "30/30 [==============================] - 4s 135ms/step - loss: 14.8517 - mae: 15.3377\n",
            "Epoch 419/500\n",
            "30/30 [==============================] - 4s 135ms/step - loss: 14.8331 - mae: 15.3187\n",
            "Epoch 420/500\n",
            "30/30 [==============================] - 4s 134ms/step - loss: 14.8474 - mae: 15.3335\n",
            "Epoch 421/500\n",
            "30/30 [==============================] - 4s 137ms/step - loss: 14.8010 - mae: 15.2870\n",
            "Epoch 422/500\n",
            "30/30 [==============================] - 4s 138ms/step - loss: 14.8519 - mae: 15.3374\n",
            "Epoch 423/500\n",
            "30/30 [==============================] - 4s 135ms/step - loss: 14.9096 - mae: 15.3957\n",
            "Epoch 424/500\n",
            "30/30 [==============================] - 4s 138ms/step - loss: 14.8001 - mae: 15.2857\n",
            "Epoch 425/500\n",
            "30/30 [==============================] - 4s 136ms/step - loss: 14.7576 - mae: 15.2426\n",
            "Epoch 426/500\n",
            "30/30 [==============================] - 4s 137ms/step - loss: 14.7756 - mae: 15.2613\n",
            "Epoch 427/500\n",
            "30/30 [==============================] - 4s 135ms/step - loss: 14.7616 - mae: 15.2469\n",
            "Epoch 428/500\n",
            "30/30 [==============================] - 4s 136ms/step - loss: 14.8018 - mae: 15.2871\n",
            "Epoch 429/500\n",
            "30/30 [==============================] - 4s 136ms/step - loss: 14.9712 - mae: 15.4574\n",
            "Epoch 430/500\n",
            "30/30 [==============================] - 4s 136ms/step - loss: 14.8122 - mae: 15.2980\n",
            "Epoch 431/500\n",
            "30/30 [==============================] - 4s 136ms/step - loss: 15.2080 - mae: 15.6948\n",
            "Epoch 432/500\n",
            "30/30 [==============================] - 4s 135ms/step - loss: 14.8514 - mae: 15.3373\n",
            "Epoch 433/500\n",
            "30/30 [==============================] - 4s 136ms/step - loss: 14.7530 - mae: 15.2385\n",
            "Epoch 434/500\n",
            "30/30 [==============================] - 4s 136ms/step - loss: 14.7207 - mae: 15.2061\n",
            "Epoch 435/500\n",
            "30/30 [==============================] - 4s 135ms/step - loss: 14.7631 - mae: 15.2488\n",
            "Epoch 436/500\n",
            "30/30 [==============================] - 4s 136ms/step - loss: 14.7949 - mae: 15.2805\n",
            "Epoch 437/500\n",
            "30/30 [==============================] - 4s 139ms/step - loss: 14.8356 - mae: 15.3217\n",
            "Epoch 438/500\n",
            "30/30 [==============================] - 4s 136ms/step - loss: 14.8100 - mae: 15.2953\n",
            "Epoch 439/500\n",
            "30/30 [==============================] - 4s 139ms/step - loss: 14.9365 - mae: 15.4220\n",
            "Epoch 440/500\n",
            "30/30 [==============================] - 4s 139ms/step - loss: 14.8755 - mae: 15.3617\n",
            "Epoch 441/500\n",
            "30/30 [==============================] - 4s 140ms/step - loss: 14.7506 - mae: 15.2359\n",
            "Epoch 442/500\n",
            "30/30 [==============================] - 4s 137ms/step - loss: 14.8137 - mae: 15.2992\n",
            "Epoch 443/500\n",
            "30/30 [==============================] - 4s 139ms/step - loss: 14.7710 - mae: 15.2572\n",
            "Epoch 444/500\n",
            "30/30 [==============================] - 4s 137ms/step - loss: 14.8856 - mae: 15.3716\n",
            "Epoch 445/500\n",
            "30/30 [==============================] - 4s 138ms/step - loss: 14.8129 - mae: 15.2988\n",
            "Epoch 446/500\n",
            "30/30 [==============================] - 4s 137ms/step - loss: 14.8391 - mae: 15.3249\n",
            "Epoch 447/500\n",
            "30/30 [==============================] - 4s 139ms/step - loss: 14.8282 - mae: 15.3140\n",
            "Epoch 448/500\n",
            "30/30 [==============================] - 4s 140ms/step - loss: 14.7316 - mae: 15.2168\n",
            "Epoch 449/500\n",
            "30/30 [==============================] - 4s 141ms/step - loss: 14.8173 - mae: 15.3028\n",
            "Epoch 450/500\n",
            "30/30 [==============================] - 4s 137ms/step - loss: 14.6505 - mae: 15.1354\n",
            "Epoch 451/500\n",
            "30/30 [==============================] - 4s 137ms/step - loss: 14.6670 - mae: 15.1520\n",
            "Epoch 452/500\n",
            "30/30 [==============================] - 4s 139ms/step - loss: 14.6405 - mae: 15.1256\n",
            "Epoch 453/500\n",
            "30/30 [==============================] - 4s 139ms/step - loss: 14.8264 - mae: 15.3120\n",
            "Epoch 454/500\n",
            "30/30 [==============================] - 4s 137ms/step - loss: 15.4666 - mae: 15.9538\n",
            "Epoch 455/500\n",
            "30/30 [==============================] - 4s 136ms/step - loss: 15.5783 - mae: 16.0655\n",
            "Epoch 456/500\n",
            "30/30 [==============================] - 4s 136ms/step - loss: 15.3316 - mae: 15.8193\n",
            "Epoch 457/500\n",
            "30/30 [==============================] - 4s 137ms/step - loss: 14.7167 - mae: 15.2026\n",
            "Epoch 458/500\n",
            "30/30 [==============================] - 4s 136ms/step - loss: 14.7036 - mae: 15.1891\n",
            "Epoch 459/500\n",
            "30/30 [==============================] - 4s 138ms/step - loss: 14.6140 - mae: 15.0993\n",
            "Epoch 460/500\n",
            "30/30 [==============================] - 4s 138ms/step - loss: 14.7064 - mae: 15.1923\n",
            "Epoch 461/500\n",
            "30/30 [==============================] - 4s 137ms/step - loss: 14.6477 - mae: 15.1327\n",
            "Epoch 462/500\n",
            "30/30 [==============================] - 4s 139ms/step - loss: 14.6347 - mae: 15.1198\n",
            "Epoch 463/500\n",
            "30/30 [==============================] - 4s 137ms/step - loss: 14.5755 - mae: 15.0605\n",
            "Epoch 464/500\n",
            "30/30 [==============================] - 4s 137ms/step - loss: 14.6597 - mae: 15.1451\n",
            "Epoch 465/500\n",
            "30/30 [==============================] - 4s 138ms/step - loss: 14.5856 - mae: 15.0711\n",
            "Epoch 466/500\n",
            "30/30 [==============================] - 4s 136ms/step - loss: 14.6509 - mae: 15.1358\n",
            "Epoch 467/500\n",
            "30/30 [==============================] - 4s 138ms/step - loss: 14.5798 - mae: 15.0650\n",
            "Epoch 468/500\n",
            "30/30 [==============================] - 5s 146ms/step - loss: 14.6289 - mae: 15.1139\n",
            "Epoch 469/500\n",
            "30/30 [==============================] - 4s 139ms/step - loss: 14.6307 - mae: 15.1156\n",
            "Epoch 470/500\n",
            "30/30 [==============================] - 4s 134ms/step - loss: 14.7557 - mae: 15.2413\n",
            "Epoch 471/500\n",
            "30/30 [==============================] - 4s 135ms/step - loss: 14.8054 - mae: 15.2910\n",
            "Epoch 472/500\n",
            "30/30 [==============================] - 4s 136ms/step - loss: 14.7246 - mae: 15.2102\n",
            "Epoch 473/500\n",
            "30/30 [==============================] - 4s 135ms/step - loss: 14.5917 - mae: 15.0769\n",
            "Epoch 474/500\n",
            "30/30 [==============================] - 4s 134ms/step - loss: 14.5539 - mae: 15.0382\n",
            "Epoch 475/500\n",
            "30/30 [==============================] - 4s 138ms/step - loss: 14.6851 - mae: 15.1702\n",
            "Epoch 476/500\n",
            "30/30 [==============================] - 4s 137ms/step - loss: 14.7023 - mae: 15.1882\n",
            "Epoch 477/500\n",
            "30/30 [==============================] - 4s 136ms/step - loss: 14.6674 - mae: 15.1530\n",
            "Epoch 478/500\n",
            "30/30 [==============================] - 4s 136ms/step - loss: 15.0575 - mae: 15.5439\n",
            "Epoch 479/500\n",
            "30/30 [==============================] - 4s 138ms/step - loss: 14.5490 - mae: 15.0343\n",
            "Epoch 480/500\n",
            "30/30 [==============================] - 4s 136ms/step - loss: 14.5435 - mae: 15.0285\n",
            "Epoch 481/500\n",
            "30/30 [==============================] - 4s 137ms/step - loss: 14.5100 - mae: 14.9951\n",
            "Epoch 482/500\n",
            "30/30 [==============================] - 4s 139ms/step - loss: 14.4807 - mae: 14.9653\n",
            "Epoch 483/500\n",
            "30/30 [==============================] - 4s 138ms/step - loss: 14.6361 - mae: 15.1211\n",
            "Epoch 484/500\n",
            "30/30 [==============================] - 4s 136ms/step - loss: 14.5029 - mae: 14.9878\n",
            "Epoch 485/500\n",
            "30/30 [==============================] - 4s 138ms/step - loss: 14.4928 - mae: 14.9775\n",
            "Epoch 486/500\n",
            "30/30 [==============================] - 4s 137ms/step - loss: 14.6704 - mae: 15.1557\n",
            "Epoch 487/500\n",
            "30/30 [==============================] - 4s 138ms/step - loss: 14.6433 - mae: 15.1289\n",
            "Epoch 488/500\n",
            "30/30 [==============================] - 4s 138ms/step - loss: 14.5342 - mae: 15.0194\n",
            "Epoch 489/500\n",
            "30/30 [==============================] - 4s 139ms/step - loss: 14.5486 - mae: 15.0341\n",
            "Epoch 490/500\n",
            "30/30 [==============================] - 4s 139ms/step - loss: 14.4685 - mae: 14.9533\n",
            "Epoch 491/500\n",
            "30/30 [==============================] - 4s 137ms/step - loss: 14.4444 - mae: 14.9291\n",
            "Epoch 492/500\n",
            "30/30 [==============================] - 4s 137ms/step - loss: 14.5427 - mae: 15.0277\n",
            "Epoch 493/500\n",
            "30/30 [==============================] - 4s 138ms/step - loss: 14.5847 - mae: 15.0697\n",
            "Epoch 494/500\n",
            "30/30 [==============================] - 4s 136ms/step - loss: 14.6837 - mae: 15.1694\n",
            "Epoch 495/500\n",
            "30/30 [==============================] - 4s 136ms/step - loss: 14.6924 - mae: 15.1778\n",
            "Epoch 496/500\n",
            "30/30 [==============================] - 4s 138ms/step - loss: 14.4744 - mae: 14.9592\n",
            "Epoch 497/500\n",
            "30/30 [==============================] - 4s 135ms/step - loss: 14.4775 - mae: 14.9624\n",
            "Epoch 498/500\n",
            "30/30 [==============================] - 4s 139ms/step - loss: 14.5240 - mae: 15.0092\n",
            "Epoch 499/500\n",
            "30/30 [==============================] - 4s 137ms/step - loss: 14.5429 - mae: 15.0281\n",
            "Epoch 500/500\n",
            "30/30 [==============================] - 4s 138ms/step - loss: 14.4781 - mae: 14.9630\n"
          ],
          "name": "stdout"
        }
      ]
    },
    {
      "cell_type": "markdown",
      "metadata": {
        "id": "5zw2Bl6fqj1S"
      },
      "source": [
        "Visualisasi Hasil Prediksi"
      ]
    },
    {
      "cell_type": "code",
      "metadata": {
        "id": "CO63A2FGypwA"
      },
      "source": [
        "rnn_baru = prediksi_model(model, series[..., np.newaxis], window_size)\n",
        "rnn_baru = rnn_baru[split_time - window_size:-1, -1, 0]"
      ],
      "execution_count": null,
      "outputs": []
    },
    {
      "cell_type": "code",
      "metadata": {
        "colab": {
          "base_uri": "https://localhost:8080/",
          "height": 334
        },
        "id": "rjInieDwvHhT",
        "outputId": "fb8d6e65-5e1a-4c55-fd7c-acc99fa20006"
      },
      "source": [
        "plt.figure(figsize=(9, 5))\n",
        "plot_series(time_valid, x_valid)\n",
        "plot_series(time_valid, rnn_baru)"
      ],
      "execution_count": null,
      "outputs": [
        {
          "output_type": "display_data",
          "data": {
            "image/png": "[encoded data removed]",
            "text/plain": [
              "<Figure size 648x360 with 1 Axes>"
            ]
          },
          "metadata": {
            "tags": [],
            "needs_background": "light"
          }
        }
      ]
    },
    {
      "cell_type": "markdown",
      "metadata": {
        "id": "Hl2Dx4rmqtF_"
      },
      "source": [
        "Mengukur MAE"
      ]
    },
    {
      "cell_type": "code",
      "metadata": {
        "colab": {
          "base_uri": "https://localhost:8080/"
        },
        "id": "Q1vryzIswxR3",
        "outputId": "344e8602-2f2a-4be4-90bd-0721da54f4fb"
      },
      "source": [
        "tf.keras.metrics.mean_absolute_error(x_valid, rnn_baru).numpy()"
      ],
      "execution_count": null,
      "outputs": [
        {
          "output_type": "execute_result",
          "data": {
            "text/plain": [
              "15.620486"
            ]
          },
          "metadata": {
            "tags": []
          },
          "execution_count": 20
        }
      ]
    },
    {
      "cell_type": "markdown",
      "metadata": {
        "id": "SJY3WQy9qwSi"
      },
      "source": [
        "Visualisasi Grafik Training Loss"
      ]
    },
    {
      "cell_type": "code",
      "metadata": {
        "colab": {
          "base_uri": "https://localhost:8080/",
          "height": 329
        },
        "id": "UQC1UabAbjYP",
        "outputId": "c2ce1cf6-66fa-4700-fe54-d09f0cfff9b6"
      },
      "source": [
        "#impor library matplotlib\n",
        "import matplotlib.image  as mpimg \n",
        "import matplotlib.pyplot as plt\n",
        "\n",
        "loss=history.history['loss'] #mengambil data loss\n",
        "epochs=range(len(loss))  #Menghitung jumlah epoch\n",
        "\n",
        "#Membuat visualisasi grafik loss\n",
        "plt.plot(epochs, loss, 'r')\n",
        "plt.title('Training loss')\n",
        "plt.xlabel(\"Epochs\")\n",
        "plt.ylabel(\"Loss\")\n",
        "plt.legend([\"Loss\"])\n",
        "\n",
        "plt.figure()"
      ],
      "execution_count": null,
      "outputs": [
        {
          "output_type": "execute_result",
          "data": {
            "text/plain": [
              "<Figure size 432x288 with 0 Axes>"
            ]
          },
          "metadata": {
            "tags": []
          },
          "execution_count": 21
        },
        {
          "output_type": "display_data",
          "data": {
            "image/png": "[encoded data removed]",
            "text/plain": [
              "<Figure size 432x288 with 1 Axes>"
            ]
          },
          "metadata": {
            "tags": [],
            "needs_background": "light"
          }
        },
        {
          "output_type": "display_data",
          "data": {
            "text/plain": [
              "<Figure size 432x288 with 0 Axes>"
            ]
          },
          "metadata": {
            "tags": []
          }
        }
      ]
    },
    {
      "cell_type": "markdown",
      "metadata": {
        "id": "ZsxpdhmOq5Am"
      },
      "source": [
        "Visualisasi Grafik Training Loss lebih Detail"
      ]
    },
    {
      "cell_type": "code",
      "metadata": {
        "colab": {
          "base_uri": "https://localhost:8080/",
          "height": 329
        },
        "id": "JUJpYWGubsoU",
        "outputId": "b0ff6e3e-a0d2-475f-fc00-67e4e869ab74"
      },
      "source": [
        "zoom_loss = loss[200:] #Mengambil data dari 200\n",
        "zoom_epoch = range(200,500) #Range data dari 200 sampai 500\n",
        "\n",
        "#Memvisualisasikan grafik\n",
        "plt.plot(zoom_epoch, zoom_loss, 'r')\n",
        "plt.title('Training loss')\n",
        "plt.xlabel(\"Epoch\")\n",
        "plt.ylabel(\"Loss\")\n",
        "plt.legend([\"Loss\"])\n",
        "\n",
        "plt.figure()"
      ],
      "execution_count": null,
      "outputs": [
        {
          "output_type": "execute_result",
          "data": {
            "text/plain": [
              "<Figure size 432x288 with 0 Axes>"
            ]
          },
          "metadata": {
            "tags": []
          },
          "execution_count": 22
        },
        {
          "output_type": "display_data",
          "data": {
            "image/png": "[encoded data removed]",
            "text/plain": [
              "<Figure size 432x288 with 1 Axes>"
            ]
          },
          "metadata": {
            "tags": [],
            "needs_background": "light"
          }
        },
        {
          "output_type": "display_data",
          "data": {
            "text/plain": [
              "<Figure size 432x288 with 0 Axes>"
            ]
          },
          "metadata": {
            "tags": []
          }
        }
      ]
    },
    {
      "cell_type": "markdown",
      "metadata": {
        "id": "W0u1q7aXrGCb"
      },
      "source": [
        "Hasil Prediksi RNN"
      ]
    },
    {
      "cell_type": "code",
      "metadata": {
        "colab": {
          "base_uri": "https://localhost:8080/"
        },
        "id": "TX47B1PYbxnq",
        "outputId": "27b187ad-57f8-4eff-c620-de58a026f47c"
      },
      "source": [
        "print(rnn_baru)"
      ],
      "execution_count": null,
      "outputs": [
        {
          "output_type": "stream",
          "text": [
            "[135.93948   103.12235   107.854065  129.22385   108.84819   147.39487\n",
            " 189.78087   156.79062   187.81398   144.31122   150.0124    168.67754\n",
            " 166.9058    167.96768   192.48328   182.7197    186.66794   200.11948\n",
            " 192.28748   204.5711    203.98186   192.89357   186.52187   187.82918\n",
            " 160.57487   151.08842   148.91212   161.18733   156.05412   132.18439\n",
            " 196.56184   131.38205   136.06392   212.91818   162.95776   181.05084\n",
            " 193.0767    157.0092    153.59818   165.92699   172.63889   180.77162\n",
            " 155.54376   166.10939   191.04233   166.12889   165.59535   156.55511\n",
            " 148.85011   141.43314   102.08545   111.27063   106.03841    94.656075\n",
            " 111.22477   112.19361    99.72339    86.33762    87.99869    77.85541\n",
            "  72.827484   72.42288    74.6223     82.11267    66.877884   67.77999\n",
            "  68.20702    76.20557    75.08509    52.962357   64.73747    77.068375\n",
            "  46.685688   45.63053    44.194557   32.430347   31.180859   46.316635\n",
            "  45.280518   50.386272   54.557896   34.109955   28.836811   28.727839\n",
            "  47.2776     17.91009    14.0321865  13.622933   13.497494   12.69638\n",
            "  11.581974   16.43831    19.259253   21.55281    21.041985   24.788696\n",
            "  21.761194   22.558731   19.731035   14.582336   12.879787   11.708781\n",
            "  14.488938   12.563949   12.8702345  12.583889   10.987878    9.625046\n",
            "  12.106937    8.611035    5.0907373  10.786907   10.411265    7.8480825\n",
            "  10.081109   10.927359    7.637903    6.963053    7.954654   10.097498\n",
            "   9.621684    7.60202     6.0288906   4.386717    4.108143    4.6765475\n",
            "   5.578646    7.119054    5.594024    5.6613326   6.3322678   7.164158\n",
            "  10.290985   12.593584   20.88556    24.778852   29.313097   34.24381\n",
            "  29.524559   32.3227     43.777554   51.188503   57.03432    61.741848\n",
            "  57.025562   51.106476   50.24871    58.000607   64.55911    72.112335\n",
            "  61.50855    71.31736    79.54353   101.18656   107.90452   115.040794\n",
            " 108.574      90.5965     64.021126   98.0149    116.394714  101.63542\n",
            " 107.30144    97.21209    95.027245   87.01589    84.5397     85.66534\n",
            "  69.92878    95.28463    84.83131    96.3338    115.1716     96.16431\n",
            "  97.32599    84.10473   101.58494    66.59196   105.92151   108.65871\n",
            " 101.373314   97.82232   116.24684   110.46861    93.20166   103.72418\n",
            " 102.041855   99.70008   107.042816  125.60128   111.761765  109.58706\n",
            " 132.7364    104.63147    97.961006   80.62893    88.136314   98.253265\n",
            "  77.87444    77.54417    77.323425   88.7316     72.1582     65.22426\n",
            "  62.3559     58.03457    52.761154   49.708244   43.34345    50.544857\n",
            "  36.742672   46.267952   44.044575   33.271946   25.456364   27.537779\n",
            "  23.141676   22.526178   23.30675    21.257904   24.558527   21.752968\n",
            "  19.125467   19.41524    19.124939   19.812616   10.813507    9.524088\n",
            "   8.9117985   9.221161   11.106175    9.440088   10.182383   11.372046\n",
            "  12.518983 ]\n"
          ],
          "name": "stdout"
        }
      ]
    }
  ]
}