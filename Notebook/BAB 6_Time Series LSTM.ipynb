{
  "nbformat": 4,
  "nbformat_minor": 0,
  "metadata": {
    "colab": {
      "name": "BAB 6 KP.ipynb",
      "provenance": [],
      "collapsed_sections": []
    },
    "kernelspec": {
      "name": "python3",
      "display_name": "Python 3"
    },
    "language_info": {
      "name": "python"
    }
  },
  "cells": [
    {
      "cell_type": "markdown",
      "metadata": {
        "id": "7kV0sn5JxIrw"
      },
      "source": [
        "# Percobaan Time Series Forecasting dengan LSTM"
      ]
    },
    {
      "cell_type": "markdown",
      "metadata": {
        "id": "vnW1jiQdxVZy"
      },
      "source": [
        "Mengimpor Library dan Memeriksa Versi Tensorflow"
      ]
    },
    {
      "cell_type": "code",
      "metadata": {
        "id": "7obN33udbtVK",
        "colab": {
          "base_uri": "https://localhost:8080/"
        },
        "outputId": "a44fd299-8fa7-4b69-bc68-ac80c43f58fa"
      },
      "source": [
        "import tensorflow as tf\n",
        "import numpy as np\n",
        "import matplotlib.pyplot as plt\n",
        "print(tf.__version__)"
      ],
      "execution_count": null,
      "outputs": [
        {
          "output_type": "stream",
          "text": [
            "2.5.0\n"
          ],
          "name": "stdout"
        }
      ]
    },
    {
      "cell_type": "markdown",
      "metadata": {
        "id": "jmvTlmWpxeLI"
      },
      "source": [
        "Membuat Bentuk Fungsi Data Series"
      ]
    },
    {
      "cell_type": "code",
      "metadata": {
        "id": "wRUElFvpNJqt"
      },
      "source": [
        "def plot_series(time, series, format=\"-\", start=0, end=None):\n",
        "    plt.plot(time[start:end], series[start:end], format)\n",
        "    plt.xlabel(\"Waktu\")\n",
        "    plt.ylabel(\"Nilai\")\n",
        "    plt.grid(True)\n",
        "\n",
        "def trend(time, slope=0):\n",
        "    return slope * time\n",
        "\n",
        "def seasonal_pattern(season_time):\n",
        "    return np.where(season_time < 0.4,\n",
        "                    np.cos(season_time * 2 * np.pi),\n",
        "                    1 / np.exp(3 * season_time))\n",
        "\n",
        "def seasonality(time, period, amplitude=1, phase=0):\n",
        "    season_time = ((time + phase) % period) / period\n",
        "    return amplitude * seasonal_pattern(season_time)\n",
        "\n",
        "def noise(time, noise_level=1, seed=None):\n",
        "    rnd = np.random.RandomState(seed)\n",
        "    return rnd.randn(len(time)) * noise_level\n",
        "\n",
        "time = np.arange(4 * 365 + 1, dtype=\"float32\")\n",
        "baseline = 10\n",
        "series = trend(time, 0.1)  \n",
        "baseline = 10\n",
        "amplitude = 40\n",
        "slope = 0.05\n",
        "noise_level = 5\n",
        "\n",
        "# Membuat Series\n",
        "series = baseline + trend(time, slope) + seasonality(time,\n",
        "                                                     period=365, \n",
        "                                                     amplitude=amplitude)\n",
        "# Menambahkan Noise\n",
        "series += noise(time, noise_level, seed=42)"
      ],
      "execution_count": null,
      "outputs": []
    },
    {
      "cell_type": "markdown",
      "metadata": {
        "id": "mhWsTFJuxwei"
      },
      "source": [
        "Membagi Dataset"
      ]
    },
    {
      "cell_type": "code",
      "metadata": {
        "id": "da4V-MSyNPA8"
      },
      "source": [
        "split_time = 1000\n",
        "time_train = time[:split_time]\n",
        "x_train = series[:split_time]\n",
        "time_valid = time[split_time:]\n",
        "x_valid = series[split_time:]\n",
        "\n",
        "window_size = 20\n",
        "batch_size = 32\n",
        "shuffle_buffer_size = 1000"
      ],
      "execution_count": null,
      "outputs": []
    },
    {
      "cell_type": "markdown",
      "metadata": {
        "id": "subTnzb9x0gv"
      },
      "source": [
        "Membuat Windowed Dataset"
      ]
    },
    {
      "cell_type": "code",
      "metadata": {
        "id": "xeV8MiWzNRrE"
      },
      "source": [
        "def windowed_dataset(series, window_size, batch_size, shuffle_buffer):\n",
        "  dataset = tf.data.Dataset.from_tensor_slices(series)\n",
        "  dataset = dataset.window(window_size + 1, shift=1, drop_remainder=True)\n",
        "  dataset = dataset.flat_map(lambda window: window.batch(window_size + 1))\n",
        "  dataset = dataset.shuffle(shuffle_buffer).map(lambda window: \n",
        "                                                (window[:-1], window[-1]))\n",
        "  dataset = dataset.batch(batch_size).prefetch(1)\n",
        "  return dataset"
      ],
      "execution_count": null,
      "outputs": []
    },
    {
      "cell_type": "markdown",
      "metadata": {
        "id": "2YfeV4lUx4HP"
      },
      "source": [
        "Membuat Model"
      ]
    },
    {
      "cell_type": "code",
      "metadata": {
        "id": "B5eqhLrtNXQj"
      },
      "source": [
        "#Membersihkan variabel internal\n",
        "tf.keras.backend.clear_session()\n",
        "tf.random.set_seed(51)\n",
        "np.random.seed(51)\n",
        "\n",
        "tf.keras.backend.clear_session()\n",
        "#Memanggil Fungsi Windowed Dataset\n",
        "dataset = windowed_dataset(x_train, window_size, batch_size, \n",
        "                           shuffle_buffer_size)\n",
        "#Membuat Sequential Model\n",
        "model = tf.keras.models.Sequential([\n",
        "  #Membuat Lambda layer\n",
        "  tf.keras.layers.Lambda(lambda x: tf.expand_dims(x, axis=-1),\n",
        "                      input_shape=[None]), \n",
        "  #Membuat LSTM Bidirectional Layer\n",
        "  tf.keras.layers.Bidirectional(tf.keras.layers.LSTM\n",
        "                                (32, return_sequences=True)),\n",
        "  tf.keras.layers.Bidirectional(tf.keras.layers.LSTM(32)),\n",
        "  tf.keras.layers.Dense(1), #Membuat Dense layer\n",
        "  tf.keras.layers.Lambda(lambda x: x * 100.0) #Membuat lambda layer\n",
        "])\n",
        "\n",
        "#Membuat Callbacks\n",
        "lr_schedule = tf.keras.callbacks.LearningRateScheduler(\n",
        "    lambda epoch: 1e-8 * 10**(epoch / 20))\n",
        "optimizer = tf.keras.optimizers.SGD(learning_rate=1e-6, momentum=0.9)\n",
        "#Mengcompile model\n",
        "model.compile(loss=tf.keras.losses.Huber(),\n",
        "              optimizer=optimizer,\n",
        "              metrics=[\"mae\"])"
      ],
      "execution_count": null,
      "outputs": []
    },
    {
      "cell_type": "markdown",
      "metadata": {
        "id": "YPhKsjUpx96e"
      },
      "source": [
        "Mentraining Model"
      ]
    },
    {
      "cell_type": "code",
      "metadata": {
        "id": "mILG9GKONbhM",
        "colab": {
          "base_uri": "https://localhost:8080/"
        },
        "outputId": "4266b4d6-365d-4be9-d15c-d8ea0018b25b"
      },
      "source": [
        "history = model.fit(dataset, epochs=100, callbacks=[lr_schedule])"
      ],
      "execution_count": null,
      "outputs": [
        {
          "output_type": "stream",
          "text": [
            "Epoch 1/100\n",
            "31/31 [==============================] - 7s 30ms/step - loss: 21.5167 - mae: 22.0115\n",
            "Epoch 2/100\n",
            "31/31 [==============================] - 1s 28ms/step - loss: 21.1522 - mae: 21.6444\n",
            "Epoch 3/100\n",
            "31/31 [==============================] - 1s 28ms/step - loss: 20.7302 - mae: 21.2236\n",
            "Epoch 4/100\n",
            "31/31 [==============================] - 1s 28ms/step - loss: 20.2834 - mae: 20.7757\n",
            "Epoch 5/100\n",
            "31/31 [==============================] - 1s 28ms/step - loss: 19.7897 - mae: 20.2855\n",
            "Epoch 6/100\n",
            "31/31 [==============================] - 1s 27ms/step - loss: 19.1782 - mae: 19.6696\n",
            "Epoch 7/100\n",
            "31/31 [==============================] - 1s 28ms/step - loss: 18.2410 - mae: 18.7333\n",
            "Epoch 8/100\n",
            "31/31 [==============================] - 1s 28ms/step - loss: 17.4825 - mae: 17.9748\n",
            "Epoch 9/100\n",
            "31/31 [==============================] - 1s 28ms/step - loss: 17.1597 - mae: 17.6529\n",
            "Epoch 10/100\n",
            "31/31 [==============================] - 1s 28ms/step - loss: 16.8547 - mae: 17.3463\n",
            "Epoch 11/100\n",
            "31/31 [==============================] - 1s 27ms/step - loss: 16.5533 - mae: 17.0471\n",
            "Epoch 12/100\n",
            "31/31 [==============================] - 1s 29ms/step - loss: 16.2565 - mae: 16.7524\n",
            "Epoch 13/100\n",
            "31/31 [==============================] - 1s 28ms/step - loss: 15.9629 - mae: 16.4598\n",
            "Epoch 14/100\n",
            "31/31 [==============================] - 1s 29ms/step - loss: 15.6593 - mae: 16.1548\n",
            "Epoch 15/100\n",
            "31/31 [==============================] - 1s 28ms/step - loss: 15.3713 - mae: 15.8652\n",
            "Epoch 16/100\n",
            "31/31 [==============================] - 1s 29ms/step - loss: 15.0752 - mae: 15.5697\n",
            "Epoch 17/100\n",
            "31/31 [==============================] - 1s 28ms/step - loss: 14.7905 - mae: 15.2869\n",
            "Epoch 18/100\n",
            "31/31 [==============================] - 1s 28ms/step - loss: 14.5229 - mae: 15.0178\n",
            "Epoch 19/100\n",
            "31/31 [==============================] - 1s 29ms/step - loss: 14.2707 - mae: 14.7636\n",
            "Epoch 20/100\n",
            "31/31 [==============================] - 1s 28ms/step - loss: 14.0293 - mae: 14.5217\n",
            "Epoch 21/100\n",
            "31/31 [==============================] - 1s 28ms/step - loss: 13.8191 - mae: 14.3135\n",
            "Epoch 22/100\n",
            "31/31 [==============================] - 1s 27ms/step - loss: 13.6084 - mae: 14.1032\n",
            "Epoch 23/100\n",
            "31/31 [==============================] - 1s 28ms/step - loss: 13.4096 - mae: 13.9038\n",
            "Epoch 24/100\n",
            "31/31 [==============================] - 1s 28ms/step - loss: 13.1859 - mae: 13.6794\n",
            "Epoch 25/100\n",
            "31/31 [==============================] - 1s 28ms/step - loss: 12.9819 - mae: 13.4747\n",
            "Epoch 26/100\n",
            "31/31 [==============================] - 1s 27ms/step - loss: 12.7278 - mae: 13.2184\n",
            "Epoch 27/100\n",
            "31/31 [==============================] - 1s 28ms/step - loss: 12.4886 - mae: 12.9799\n",
            "Epoch 28/100\n",
            "31/31 [==============================] - 1s 29ms/step - loss: 12.3459 - mae: 12.8362\n",
            "Epoch 29/100\n",
            "31/31 [==============================] - 1s 28ms/step - loss: 11.9127 - mae: 12.4017\n",
            "Epoch 30/100\n",
            "31/31 [==============================] - 1s 27ms/step - loss: 11.5934 - mae: 12.0835\n",
            "Epoch 31/100\n",
            "31/31 [==============================] - 1s 28ms/step - loss: 11.2859 - mae: 11.7771\n",
            "Epoch 32/100\n",
            "31/31 [==============================] - 1s 29ms/step - loss: 11.3520 - mae: 11.8418\n",
            "Epoch 33/100\n",
            "31/31 [==============================] - 1s 28ms/step - loss: 10.5232 - mae: 11.0140\n",
            "Epoch 34/100\n",
            "31/31 [==============================] - 1s 28ms/step - loss: 10.5461 - mae: 11.0339\n",
            "Epoch 35/100\n",
            "31/31 [==============================] - 1s 27ms/step - loss: 10.0828 - mae: 10.5680\n",
            "Epoch 36/100\n",
            "31/31 [==============================] - 1s 28ms/step - loss: 9.5412 - mae: 10.0305\n",
            "Epoch 37/100\n",
            "31/31 [==============================] - 1s 28ms/step - loss: 9.4545 - mae: 9.9446\n",
            "Epoch 38/100\n",
            "31/31 [==============================] - 1s 27ms/step - loss: 9.8349 - mae: 10.3223\n",
            "Epoch 39/100\n",
            "31/31 [==============================] - 1s 28ms/step - loss: 9.2438 - mae: 9.7267\n",
            "Epoch 40/100\n",
            "31/31 [==============================] - 1s 29ms/step - loss: 8.7788 - mae: 9.2649\n",
            "Epoch 41/100\n",
            "31/31 [==============================] - 1s 28ms/step - loss: 8.3408 - mae: 8.8261\n",
            "Epoch 42/100\n",
            "31/31 [==============================] - 1s 29ms/step - loss: 7.9802 - mae: 8.4644\n",
            "Epoch 43/100\n",
            "31/31 [==============================] - 1s 27ms/step - loss: 7.6473 - mae: 8.1316\n",
            "Epoch 44/100\n",
            "31/31 [==============================] - 1s 28ms/step - loss: 7.4028 - mae: 7.8885\n",
            "Epoch 45/100\n",
            "31/31 [==============================] - 1s 27ms/step - loss: 7.2177 - mae: 7.7017\n",
            "Epoch 46/100\n",
            "31/31 [==============================] - 1s 28ms/step - loss: 6.9557 - mae: 7.4393\n",
            "Epoch 47/100\n",
            "31/31 [==============================] - 1s 27ms/step - loss: 6.7199 - mae: 7.2041\n",
            "Epoch 48/100\n",
            "31/31 [==============================] - 1s 28ms/step - loss: 6.6008 - mae: 7.0830\n",
            "Epoch 49/100\n",
            "31/31 [==============================] - 1s 28ms/step - loss: 6.2326 - mae: 6.7099\n",
            "Epoch 50/100\n",
            "31/31 [==============================] - 1s 28ms/step - loss: 6.0554 - mae: 6.5328\n",
            "Epoch 51/100\n",
            "31/31 [==============================] - 1s 28ms/step - loss: 5.9251 - mae: 6.4041\n",
            "Epoch 52/100\n",
            "31/31 [==============================] - 1s 28ms/step - loss: 5.7909 - mae: 6.2727\n",
            "Epoch 53/100\n",
            "31/31 [==============================] - 1s 28ms/step - loss: 5.6435 - mae: 6.1237\n",
            "Epoch 54/100\n",
            "31/31 [==============================] - 1s 28ms/step - loss: 5.5345 - mae: 6.0098\n",
            "Epoch 55/100\n",
            "31/31 [==============================] - 1s 28ms/step - loss: 5.4123 - mae: 5.8833\n",
            "Epoch 56/100\n",
            "31/31 [==============================] - 1s 29ms/step - loss: 5.5684 - mae: 6.0400\n",
            "Epoch 57/100\n",
            "31/31 [==============================] - 1s 28ms/step - loss: 5.3063 - mae: 5.7843\n",
            "Epoch 58/100\n",
            "31/31 [==============================] - 1s 28ms/step - loss: 5.3159 - mae: 5.7985\n",
            "Epoch 59/100\n",
            "31/31 [==============================] - 1s 29ms/step - loss: 5.1663 - mae: 5.6453\n",
            "Epoch 60/100\n",
            "31/31 [==============================] - 1s 30ms/step - loss: 5.0672 - mae: 5.5396\n",
            "Epoch 61/100\n",
            "31/31 [==============================] - 1s 28ms/step - loss: 5.3471 - mae: 5.8230\n",
            "Epoch 62/100\n",
            "31/31 [==============================] - 1s 28ms/step - loss: 5.1925 - mae: 5.6721\n",
            "Epoch 63/100\n",
            "31/31 [==============================] - 1s 28ms/step - loss: 5.1291 - mae: 5.6057\n",
            "Epoch 64/100\n",
            "31/31 [==============================] - 1s 27ms/step - loss: 4.8430 - mae: 5.3148\n",
            "Epoch 65/100\n",
            "31/31 [==============================] - 1s 29ms/step - loss: 5.1060 - mae: 5.5881\n",
            "Epoch 66/100\n",
            "31/31 [==============================] - 1s 28ms/step - loss: 5.4106 - mae: 5.8933\n",
            "Epoch 67/100\n",
            "31/31 [==============================] - 1s 28ms/step - loss: 5.9830 - mae: 6.4670\n",
            "Epoch 68/100\n",
            "31/31 [==============================] - 1s 28ms/step - loss: 5.2915 - mae: 5.7680\n",
            "Epoch 69/100\n",
            "31/31 [==============================] - 1s 28ms/step - loss: 5.5272 - mae: 6.0064\n",
            "Epoch 70/100\n",
            "31/31 [==============================] - 1s 27ms/step - loss: 4.8979 - mae: 5.3718\n",
            "Epoch 71/100\n",
            "31/31 [==============================] - 1s 28ms/step - loss: 5.8940 - mae: 6.3755\n",
            "Epoch 72/100\n",
            "31/31 [==============================] - 1s 28ms/step - loss: 6.0324 - mae: 6.5163\n",
            "Epoch 73/100\n",
            "31/31 [==============================] - 1s 29ms/step - loss: 5.7695 - mae: 6.2518\n",
            "Epoch 74/100\n",
            "31/31 [==============================] - 1s 29ms/step - loss: 4.7807 - mae: 5.2639\n",
            "Epoch 75/100\n",
            "31/31 [==============================] - 1s 29ms/step - loss: 5.1967 - mae: 5.6758\n",
            "Epoch 76/100\n",
            "31/31 [==============================] - 1s 29ms/step - loss: 5.2230 - mae: 5.7035\n",
            "Epoch 77/100\n",
            "31/31 [==============================] - 1s 28ms/step - loss: 5.7093 - mae: 6.1897\n",
            "Epoch 78/100\n",
            "31/31 [==============================] - 1s 28ms/step - loss: 6.1954 - mae: 6.6707\n",
            "Epoch 79/100\n",
            "31/31 [==============================] - 1s 28ms/step - loss: 5.8617 - mae: 6.3443\n",
            "Epoch 80/100\n",
            "31/31 [==============================] - 1s 27ms/step - loss: 5.1577 - mae: 5.6368\n",
            "Epoch 81/100\n",
            "31/31 [==============================] - 1s 28ms/step - loss: 7.1492 - mae: 7.6369\n",
            "Epoch 82/100\n",
            "31/31 [==============================] - 1s 27ms/step - loss: 5.9693 - mae: 6.4510\n",
            "Epoch 83/100\n",
            "31/31 [==============================] - 1s 28ms/step - loss: 6.8407 - mae: 7.3256\n",
            "Epoch 84/100\n",
            "31/31 [==============================] - 1s 28ms/step - loss: 7.3974 - mae: 7.8855\n",
            "Epoch 85/100\n",
            "31/31 [==============================] - 1s 27ms/step - loss: 8.2439 - mae: 8.7337\n",
            "Epoch 86/100\n",
            "31/31 [==============================] - 1s 30ms/step - loss: 6.9448 - mae: 7.4275\n",
            "Epoch 87/100\n",
            "31/31 [==============================] - 1s 27ms/step - loss: 7.5105 - mae: 7.9937\n",
            "Epoch 88/100\n",
            "31/31 [==============================] - 1s 28ms/step - loss: 8.7428 - mae: 9.2330\n",
            "Epoch 89/100\n",
            "31/31 [==============================] - 1s 29ms/step - loss: 8.1627 - mae: 8.6511\n",
            "Epoch 90/100\n",
            "31/31 [==============================] - 1s 27ms/step - loss: 5.9705 - mae: 6.4516\n",
            "Epoch 91/100\n",
            "31/31 [==============================] - 1s 28ms/step - loss: 6.8359 - mae: 7.3235\n",
            "Epoch 92/100\n",
            "31/31 [==============================] - 1s 28ms/step - loss: 6.9962 - mae: 7.4797\n",
            "Epoch 93/100\n",
            "31/31 [==============================] - 1s 28ms/step - loss: 10.4499 - mae: 10.9373\n",
            "Epoch 94/100\n",
            "31/31 [==============================] - 1s 28ms/step - loss: 12.8381 - mae: 13.3312\n",
            "Epoch 95/100\n",
            "31/31 [==============================] - 1s 28ms/step - loss: 8.6597 - mae: 9.1483\n",
            "Epoch 96/100\n",
            "31/31 [==============================] - 1s 28ms/step - loss: 11.5815 - mae: 12.0747\n",
            "Epoch 97/100\n",
            "31/31 [==============================] - 1s 28ms/step - loss: 11.0056 - mae: 11.4994\n",
            "Epoch 98/100\n",
            "31/31 [==============================] - 1s 28ms/step - loss: 11.5694 - mae: 12.0619\n",
            "Epoch 99/100\n",
            "31/31 [==============================] - 1s 28ms/step - loss: 11.2635 - mae: 11.7528\n",
            "Epoch 100/100\n",
            "31/31 [==============================] - 1s 29ms/step - loss: 14.8440 - mae: 15.3370\n"
          ],
          "name": "stdout"
        }
      ]
    },
    {
      "cell_type": "markdown",
      "metadata": {
        "id": "OYvqmAP8qg3F"
      },
      "source": [
        "Memvisualisasikan Hasil Prediksi"
      ]
    },
    {
      "cell_type": "code",
      "metadata": {
        "colab": {
          "base_uri": "https://localhost:8080/",
          "height": 334
        },
        "id": "DbxDGe2EJe8Y",
        "outputId": "760416ce-febe-4914-dac1-4f1c49cecabe"
      },
      "source": [
        "prediksi = []\n",
        "hasil = []\n",
        "for time in range(len(series) - window_size):\n",
        "  prediksi.append(model.predict(series[time:time + window_size]\n",
        "                                [np.newaxis]))\n",
        "\n",
        "prediksi = prediksi[split_time-window_size:]\n",
        "hasil = np.array(prediksi)[:, 0, 0]\n",
        "\n",
        "\n",
        "plt.figure(figsize=(9, 5))\n",
        "\n",
        "plot_series(time_valid, x_valid)\n",
        "plot_series(time_valid, hasil)"
      ],
      "execution_count": null,
      "outputs": [
        {
          "output_type": "display_data",
          "data": {
            "image/png": "[encoded data removed]",
            "text/plain": [
              "<Figure size 648x360 with 1 Axes>"
            ]
          },
          "metadata": {
            "tags": [],
            "needs_background": "light"
          }
        }
      ]
    },
    {
      "cell_type": "markdown",
      "metadata": {
        "id": "ax6Y74Dfq4dQ"
      },
      "source": [
        "Mengukur Hasil MAE"
      ]
    },
    {
      "cell_type": "code",
      "metadata": {
        "colab": {
          "base_uri": "https://localhost:8080/"
        },
        "id": "waouGas7J75U",
        "outputId": "659ce8eb-4322-4713-bef4-5431ff757ea3"
      },
      "source": [
        "tf.keras.metrics.mean_absolute_error(x_valid, hasil).numpy()"
      ],
      "execution_count": null,
      "outputs": [
        {
          "output_type": "execute_result",
          "data": {
            "text/plain": [
              "18.120106"
            ]
          },
          "metadata": {
            "tags": []
          },
          "execution_count": 8
        }
      ]
    },
    {
      "cell_type": "markdown",
      "metadata": {
        "id": "_7f1XRuTyKvB"
      },
      "source": [
        "# Memperbaiki Model"
      ]
    },
    {
      "cell_type": "markdown",
      "metadata": {
        "id": "lxWmZk5hyA3O"
      },
      "source": [
        "Mencari Nilai Optimum Learning Rate"
      ]
    },
    {
      "cell_type": "code",
      "metadata": {
        "id": "mnxM7YuNNhet",
        "colab": {
          "base_uri": "https://localhost:8080/",
          "height": 290
        },
        "outputId": "291c038b-3285-4785-9061-642b0627468b"
      },
      "source": [
        "plt.semilogx(history.history[\"lr\"], history.history[\"loss\"])\n",
        "plt.axis([1e-8, 1e-4, 0, 30])"
      ],
      "execution_count": null,
      "outputs": [
        {
          "output_type": "execute_result",
          "data": {
            "text/plain": [
              "(1e-08, 0.0001, 0.0, 30.0)"
            ]
          },
          "metadata": {
            "tags": []
          },
          "execution_count": 9
        },
        {
          "output_type": "display_data",
          "data": {
            "image/png": "[encoded data removed]",
            "text/plain": [
              "<Figure size 432x288 with 1 Axes>"
            ]
          },
          "metadata": {
            "tags": [],
            "needs_background": "light"
          }
        }
      ]
    },
    {
      "cell_type": "markdown",
      "metadata": {
        "id": "Pex4WbE5ySCe"
      },
      "source": [
        "Membuat Model Baru"
      ]
    },
    {
      "cell_type": "code",
      "metadata": {
        "id": "cpBzpyY0Njxq"
      },
      "source": [
        "tf.keras.backend.clear_session()\n",
        "tf.random.set_seed(51)\n",
        "np.random.seed(51)\n",
        "\n",
        "tf.keras.backend.clear_session()\n",
        "dataset = windowed_dataset(x_train, window_size, batch_size, \n",
        "                           shuffle_buffer_size)\n",
        "\n",
        "model = tf.keras.models.Sequential([\n",
        "  tf.keras.layers.Lambda(lambda x: tf.expand_dims(x, axis=-1),\n",
        "                      input_shape=[None]),\n",
        "   tf.keras.layers.Bidirectional(tf.keras.layers.LSTM\n",
        "                                 (32, return_sequences=True)),\n",
        "  tf.keras.layers.Bidirectional(tf.keras.layers.LSTM(32)),\n",
        "  tf.keras.layers.Dense(1),\n",
        "  tf.keras.layers.Lambda(lambda x: x * 100.0)\n",
        "])\n",
        "\n",
        "\n",
        "model.compile(loss=\"mse\", \n",
        "              optimizer=tf.keras.optimizers.SGD(learning_rate=1e-5,\n",
        "                                                momentum=0.9),\n",
        "              metrics=[\"mae\"])"
      ],
      "execution_count": null,
      "outputs": []
    },
    {
      "cell_type": "markdown",
      "metadata": {
        "id": "QSwDrlGWyWUt"
      },
      "source": [
        "Mentraining Model"
      ]
    },
    {
      "cell_type": "code",
      "metadata": {
        "id": "-oTKhlVPtyyX"
      },
      "source": [
        "history = model.fit(dataset,epochs=500,verbose=0)"
      ],
      "execution_count": null,
      "outputs": []
    },
    {
      "cell_type": "markdown",
      "metadata": {
        "id": "K1qgg-ccyafF"
      },
      "source": [
        "Memvisualisasikan Hasil Prediksi"
      ]
    },
    {
      "cell_type": "code",
      "metadata": {
        "id": "tG0C-exot4nd",
        "colab": {
          "base_uri": "https://localhost:8080/",
          "height": 334
        },
        "outputId": "360f2e42-125d-4a3e-c6a6-57307a8f982a"
      },
      "source": [
        "prediksi = []\n",
        "hasil = []\n",
        "for time in range(len(series) - window_size):\n",
        "  prediksi.append(model.predict(series[time:time + window_size]\n",
        "                                [np.newaxis]))\n",
        "\n",
        "prediksi = prediksi[split_time-window_size:]\n",
        "hasil = np.array(prediksi)[:, 0, 0]\n",
        "\n",
        "\n",
        "plt.figure(figsize=(9, 5))\n",
        "\n",
        "plot_series(time_valid, x_valid)\n",
        "plot_series(time_valid, hasil)"
      ],
      "execution_count": null,
      "outputs": [
        {
          "output_type": "display_data",
          "data": {
            "image/png": "[encoded data removed]",
            "text/plain": [
              "<Figure size 648x360 with 1 Axes>"
            ]
          },
          "metadata": {
            "tags": [],
            "needs_background": "light"
          }
        }
      ]
    },
    {
      "cell_type": "markdown",
      "metadata": {
        "id": "fVSk4DTfyezN"
      },
      "source": [
        "Mengukur Hasil MAE"
      ]
    },
    {
      "cell_type": "code",
      "metadata": {
        "id": "we6Uc3wat_YG",
        "colab": {
          "base_uri": "https://localhost:8080/"
        },
        "outputId": "f5f44b22-ff41-4fa0-ce4d-6eea20d9342f"
      },
      "source": [
        "tf.keras.metrics.mean_absolute_error(x_valid, hasil).numpy()"
      ],
      "execution_count": null,
      "outputs": [
        {
          "output_type": "execute_result",
          "data": {
            "text/plain": [
              "5.782226"
            ]
          },
          "metadata": {
            "tags": []
          },
          "execution_count": 14
        }
      ]
    }
  ]
}